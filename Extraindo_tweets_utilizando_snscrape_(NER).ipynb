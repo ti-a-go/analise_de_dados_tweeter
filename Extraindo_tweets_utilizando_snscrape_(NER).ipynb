{
  "cells": [
    {
      "cell_type": "markdown",
      "metadata": {
        "id": "view-in-github",
        "colab_type": "text"
      },
      "source": [
        "<a href=\"https://colab.research.google.com/github/ti-a-go/analise_de_dados_twitter/blob/main/Extraindo_tweets_utilizando_snscrape_(NER).ipynb\" target=\"_parent\"><img src=\"https://colab.research.google.com/assets/colab-badge.svg\" alt=\"Open In Colab\"/></a>"
      ]
    },
    {
      "cell_type": "markdown",
      "source": [
        "# 1. Preparando o [Spacy](https://spacy.io/)"
      ],
      "metadata": {
        "id": "kZpzoAlTbQnB"
      }
    },
    {
      "cell_type": "code",
      "source": [
        "!pip install -U pip setuptools wheel"
      ],
      "metadata": {
        "id": "bRGC5Z3nbPV6",
        "colab": {
          "base_uri": "https://localhost:8080/"
        },
        "outputId": "c6207d76-6617-47a4-c33e-74acf7248f5a"
      },
      "execution_count": 1,
      "outputs": [
        {
          "output_type": "stream",
          "name": "stdout",
          "text": [
            "Looking in indexes: https://pypi.org/simple, https://us-python.pkg.dev/colab-wheels/public/simple/\n",
            "Requirement already satisfied: pip in /usr/local/lib/python3.7/dist-packages (22.3)\n",
            "Requirement already satisfied: setuptools in /usr/local/lib/python3.7/dist-packages (65.5.0)\n",
            "Requirement already satisfied: wheel in /usr/local/lib/python3.7/dist-packages (0.37.1)\n",
            "\u001b[33mWARNING: Running pip as the 'root' user can result in broken permissions and conflicting behaviour with the system package manager. It is recommended to use a virtual environment instead: https://pip.pypa.io/warnings/venv\u001b[0m\u001b[33m\n",
            "\u001b[0m"
          ]
        }
      ]
    },
    {
      "cell_type": "code",
      "source": [
        "!pip install -U spacy"
      ],
      "metadata": {
        "id": "_2smDJGXbJoa",
        "colab": {
          "base_uri": "https://localhost:8080/"
        },
        "outputId": "bac37fce-a4de-4ab9-f100-86058319cd9d"
      },
      "execution_count": 2,
      "outputs": [
        {
          "output_type": "stream",
          "name": "stdout",
          "text": [
            "Looking in indexes: https://pypi.org/simple, https://us-python.pkg.dev/colab-wheels/public/simple/\n",
            "Requirement already satisfied: spacy in /usr/local/lib/python3.7/dist-packages (3.4.1)\n",
            "Collecting spacy\n",
            "  Downloading spacy-3.4.2-cp37-cp37m-manylinux_2_17_x86_64.manylinux2014_x86_64.whl (6.4 MB)\n",
            "\u001b[2K     \u001b[90m━━━━━━━━━━━━━━━━━━━━━━━━━━━━━━━━━━━━━━━━\u001b[0m \u001b[32m6.4/6.4 MB\u001b[0m \u001b[31m53.0 MB/s\u001b[0m eta \u001b[36m0:00:00\u001b[0m\n",
            "\u001b[?25hRequirement already satisfied: cymem<2.1.0,>=2.0.2 in /usr/local/lib/python3.7/dist-packages (from spacy) (2.0.7)\n",
            "Requirement already satisfied: spacy-legacy<3.1.0,>=3.0.10 in /usr/local/lib/python3.7/dist-packages (from spacy) (3.0.10)\n",
            "Requirement already satisfied: tqdm<5.0.0,>=4.38.0 in /usr/local/lib/python3.7/dist-packages (from spacy) (4.64.1)\n",
            "Requirement already satisfied: thinc<8.2.0,>=8.1.0 in /usr/local/lib/python3.7/dist-packages (from spacy) (8.1.4)\n",
            "Requirement already satisfied: wasabi<1.1.0,>=0.9.1 in /usr/local/lib/python3.7/dist-packages (from spacy) (0.10.1)\n",
            "Requirement already satisfied: spacy-loggers<2.0.0,>=1.0.0 in /usr/local/lib/python3.7/dist-packages (from spacy) (1.0.3)\n",
            "Requirement already satisfied: jinja2 in /usr/local/lib/python3.7/dist-packages (from spacy) (2.11.3)\n",
            "Requirement already satisfied: packaging>=20.0 in /usr/local/lib/python3.7/dist-packages (from spacy) (21.3)\n",
            "Requirement already satisfied: numpy>=1.15.0 in /usr/local/lib/python3.7/dist-packages (from spacy) (1.21.6)\n",
            "Requirement already satisfied: srsly<3.0.0,>=2.4.3 in /usr/local/lib/python3.7/dist-packages (from spacy) (2.4.4)\n",
            "Requirement already satisfied: setuptools in /usr/local/lib/python3.7/dist-packages (from spacy) (65.5.0)\n",
            "Requirement already satisfied: catalogue<2.1.0,>=2.0.6 in /usr/local/lib/python3.7/dist-packages (from spacy) (2.0.8)\n",
            "Requirement already satisfied: murmurhash<1.1.0,>=0.28.0 in /usr/local/lib/python3.7/dist-packages (from spacy) (1.0.9)\n",
            "Requirement already satisfied: pathy>=0.3.5 in /usr/local/lib/python3.7/dist-packages (from spacy) (0.6.2)\n",
            "Requirement already satisfied: typer<0.5.0,>=0.3.0 in /usr/local/lib/python3.7/dist-packages (from spacy) (0.4.2)\n",
            "Requirement already satisfied: requests<3.0.0,>=2.13.0 in /usr/local/lib/python3.7/dist-packages (from spacy) (2.23.0)\n",
            "Requirement already satisfied: pydantic!=1.8,!=1.8.1,<1.11.0,>=1.7.4 in /usr/local/lib/python3.7/dist-packages (from spacy) (1.9.2)\n",
            "Requirement already satisfied: langcodes<4.0.0,>=3.2.0 in /usr/local/lib/python3.7/dist-packages (from spacy) (3.3.0)\n",
            "Requirement already satisfied: typing-extensions<4.2.0,>=3.7.4 in /usr/local/lib/python3.7/dist-packages (from spacy) (4.1.1)\n",
            "Requirement already satisfied: preshed<3.1.0,>=3.0.2 in /usr/local/lib/python3.7/dist-packages (from spacy) (3.0.8)\n",
            "Requirement already satisfied: zipp>=0.5 in /usr/local/lib/python3.7/dist-packages (from catalogue<2.1.0,>=2.0.6->spacy) (3.9.0)\n",
            "Requirement already satisfied: pyparsing!=3.0.5,>=2.0.2 in /usr/local/lib/python3.7/dist-packages (from packaging>=20.0->spacy) (3.0.9)\n",
            "Requirement already satisfied: smart-open<6.0.0,>=5.2.1 in /usr/local/lib/python3.7/dist-packages (from pathy>=0.3.5->spacy) (5.2.1)\n",
            "Requirement already satisfied: certifi>=2017.4.17 in /usr/local/lib/python3.7/dist-packages (from requests<3.0.0,>=2.13.0->spacy) (2022.9.24)\n",
            "Requirement already satisfied: chardet<4,>=3.0.2 in /usr/local/lib/python3.7/dist-packages (from requests<3.0.0,>=2.13.0->spacy) (3.0.4)\n",
            "Requirement already satisfied: idna<3,>=2.5 in /usr/local/lib/python3.7/dist-packages (from requests<3.0.0,>=2.13.0->spacy) (2.10)\n",
            "Requirement already satisfied: urllib3!=1.25.0,!=1.25.1,<1.26,>=1.21.1 in /usr/local/lib/python3.7/dist-packages (from requests<3.0.0,>=2.13.0->spacy) (1.24.3)\n",
            "Requirement already satisfied: blis<0.8.0,>=0.7.8 in /usr/local/lib/python3.7/dist-packages (from thinc<8.2.0,>=8.1.0->spacy) (0.7.8)\n",
            "Requirement already satisfied: confection<1.0.0,>=0.0.1 in /usr/local/lib/python3.7/dist-packages (from thinc<8.2.0,>=8.1.0->spacy) (0.0.3)\n",
            "Requirement already satisfied: click<9.0.0,>=7.1.1 in /usr/local/lib/python3.7/dist-packages (from typer<0.5.0,>=0.3.0->spacy) (7.1.2)\n",
            "Requirement already satisfied: MarkupSafe>=0.23 in /usr/local/lib/python3.7/dist-packages (from jinja2->spacy) (2.0.1)\n",
            "Installing collected packages: spacy\n",
            "  Attempting uninstall: spacy\n",
            "    Found existing installation: spacy 3.4.1\n",
            "    Uninstalling spacy-3.4.1:\n",
            "      Successfully uninstalled spacy-3.4.1\n",
            "Successfully installed spacy-3.4.2\n",
            "\u001b[33mWARNING: Running pip as the 'root' user can result in broken permissions and conflicting behaviour with the system package manager. It is recommended to use a virtual environment instead: https://pip.pypa.io/warnings/venv\u001b[0m\u001b[33m\n",
            "\u001b[0m"
          ]
        }
      ]
    },
    {
      "cell_type": "code",
      "source": [
        "!python -m spacy download pt_core_news_lg"
      ],
      "metadata": {
        "id": "rgpW_p8GbdBK",
        "colab": {
          "base_uri": "https://localhost:8080/"
        },
        "outputId": "b1b244fd-c99b-4b96-c809-fd0beda5feba"
      },
      "execution_count": 3,
      "outputs": [
        {
          "output_type": "stream",
          "name": "stdout",
          "text": [
            "2022-10-21 21:48:47.672556: E tensorflow/stream_executor/cuda/cuda_driver.cc:271] failed call to cuInit: CUDA_ERROR_NO_DEVICE: no CUDA-capable device is detected\n",
            "Looking in indexes: https://pypi.org/simple, https://us-python.pkg.dev/colab-wheels/public/simple/\n",
            "Collecting pt-core-news-lg==3.4.0\n",
            "  Downloading https://github.com/explosion/spacy-models/releases/download/pt_core_news_lg-3.4.0/pt_core_news_lg-3.4.0-py3-none-any.whl (568.2 MB)\n",
            "\u001b[2K     \u001b[90m━━━━━━━━━━━━━━━━━━━━━━━━━━━━━━━━━━━━━━━\u001b[0m \u001b[32m568.2/568.2 MB\u001b[0m \u001b[31m2.1 MB/s\u001b[0m eta \u001b[36m0:00:00\u001b[0m\n",
            "\u001b[?25hRequirement already satisfied: spacy<3.5.0,>=3.4.0 in /usr/local/lib/python3.7/dist-packages (from pt-core-news-lg==3.4.0) (3.4.2)\n",
            "Requirement already satisfied: typer<0.5.0,>=0.3.0 in /usr/local/lib/python3.7/dist-packages (from spacy<3.5.0,>=3.4.0->pt-core-news-lg==3.4.0) (0.4.2)\n",
            "Requirement already satisfied: setuptools in /usr/local/lib/python3.7/dist-packages (from spacy<3.5.0,>=3.4.0->pt-core-news-lg==3.4.0) (65.5.0)\n",
            "Requirement already satisfied: langcodes<4.0.0,>=3.2.0 in /usr/local/lib/python3.7/dist-packages (from spacy<3.5.0,>=3.4.0->pt-core-news-lg==3.4.0) (3.3.0)\n",
            "Requirement already satisfied: requests<3.0.0,>=2.13.0 in /usr/local/lib/python3.7/dist-packages (from spacy<3.5.0,>=3.4.0->pt-core-news-lg==3.4.0) (2.23.0)\n",
            "Requirement already satisfied: pathy>=0.3.5 in /usr/local/lib/python3.7/dist-packages (from spacy<3.5.0,>=3.4.0->pt-core-news-lg==3.4.0) (0.6.2)\n",
            "Requirement already satisfied: pydantic!=1.8,!=1.8.1,<1.11.0,>=1.7.4 in /usr/local/lib/python3.7/dist-packages (from spacy<3.5.0,>=3.4.0->pt-core-news-lg==3.4.0) (1.9.2)\n",
            "Requirement already satisfied: cymem<2.1.0,>=2.0.2 in /usr/local/lib/python3.7/dist-packages (from spacy<3.5.0,>=3.4.0->pt-core-news-lg==3.4.0) (2.0.7)\n",
            "Requirement already satisfied: packaging>=20.0 in /usr/local/lib/python3.7/dist-packages (from spacy<3.5.0,>=3.4.0->pt-core-news-lg==3.4.0) (21.3)\n",
            "Requirement already satisfied: murmurhash<1.1.0,>=0.28.0 in /usr/local/lib/python3.7/dist-packages (from spacy<3.5.0,>=3.4.0->pt-core-news-lg==3.4.0) (1.0.9)\n",
            "Requirement already satisfied: spacy-loggers<2.0.0,>=1.0.0 in /usr/local/lib/python3.7/dist-packages (from spacy<3.5.0,>=3.4.0->pt-core-news-lg==3.4.0) (1.0.3)\n",
            "Requirement already satisfied: catalogue<2.1.0,>=2.0.6 in /usr/local/lib/python3.7/dist-packages (from spacy<3.5.0,>=3.4.0->pt-core-news-lg==3.4.0) (2.0.8)\n",
            "Requirement already satisfied: thinc<8.2.0,>=8.1.0 in /usr/local/lib/python3.7/dist-packages (from spacy<3.5.0,>=3.4.0->pt-core-news-lg==3.4.0) (8.1.4)\n",
            "Requirement already satisfied: spacy-legacy<3.1.0,>=3.0.10 in /usr/local/lib/python3.7/dist-packages (from spacy<3.5.0,>=3.4.0->pt-core-news-lg==3.4.0) (3.0.10)\n",
            "Requirement already satisfied: jinja2 in /usr/local/lib/python3.7/dist-packages (from spacy<3.5.0,>=3.4.0->pt-core-news-lg==3.4.0) (2.11.3)\n",
            "Requirement already satisfied: wasabi<1.1.0,>=0.9.1 in /usr/local/lib/python3.7/dist-packages (from spacy<3.5.0,>=3.4.0->pt-core-news-lg==3.4.0) (0.10.1)\n",
            "Requirement already satisfied: tqdm<5.0.0,>=4.38.0 in /usr/local/lib/python3.7/dist-packages (from spacy<3.5.0,>=3.4.0->pt-core-news-lg==3.4.0) (4.64.1)\n",
            "Requirement already satisfied: typing-extensions<4.2.0,>=3.7.4 in /usr/local/lib/python3.7/dist-packages (from spacy<3.5.0,>=3.4.0->pt-core-news-lg==3.4.0) (4.1.1)\n",
            "Requirement already satisfied: preshed<3.1.0,>=3.0.2 in /usr/local/lib/python3.7/dist-packages (from spacy<3.5.0,>=3.4.0->pt-core-news-lg==3.4.0) (3.0.8)\n",
            "Requirement already satisfied: srsly<3.0.0,>=2.4.3 in /usr/local/lib/python3.7/dist-packages (from spacy<3.5.0,>=3.4.0->pt-core-news-lg==3.4.0) (2.4.4)\n",
            "Requirement already satisfied: numpy>=1.15.0 in /usr/local/lib/python3.7/dist-packages (from spacy<3.5.0,>=3.4.0->pt-core-news-lg==3.4.0) (1.21.6)\n",
            "Requirement already satisfied: zipp>=0.5 in /usr/local/lib/python3.7/dist-packages (from catalogue<2.1.0,>=2.0.6->spacy<3.5.0,>=3.4.0->pt-core-news-lg==3.4.0) (3.9.0)\n",
            "Requirement already satisfied: pyparsing!=3.0.5,>=2.0.2 in /usr/local/lib/python3.7/dist-packages (from packaging>=20.0->spacy<3.5.0,>=3.4.0->pt-core-news-lg==3.4.0) (3.0.9)\n",
            "Requirement already satisfied: smart-open<6.0.0,>=5.2.1 in /usr/local/lib/python3.7/dist-packages (from pathy>=0.3.5->spacy<3.5.0,>=3.4.0->pt-core-news-lg==3.4.0) (5.2.1)\n",
            "Requirement already satisfied: certifi>=2017.4.17 in /usr/local/lib/python3.7/dist-packages (from requests<3.0.0,>=2.13.0->spacy<3.5.0,>=3.4.0->pt-core-news-lg==3.4.0) (2022.9.24)\n",
            "Requirement already satisfied: idna<3,>=2.5 in /usr/local/lib/python3.7/dist-packages (from requests<3.0.0,>=2.13.0->spacy<3.5.0,>=3.4.0->pt-core-news-lg==3.4.0) (2.10)\n",
            "Requirement already satisfied: urllib3!=1.25.0,!=1.25.1,<1.26,>=1.21.1 in /usr/local/lib/python3.7/dist-packages (from requests<3.0.0,>=2.13.0->spacy<3.5.0,>=3.4.0->pt-core-news-lg==3.4.0) (1.24.3)\n",
            "Requirement already satisfied: chardet<4,>=3.0.2 in /usr/local/lib/python3.7/dist-packages (from requests<3.0.0,>=2.13.0->spacy<3.5.0,>=3.4.0->pt-core-news-lg==3.4.0) (3.0.4)\n",
            "Requirement already satisfied: confection<1.0.0,>=0.0.1 in /usr/local/lib/python3.7/dist-packages (from thinc<8.2.0,>=8.1.0->spacy<3.5.0,>=3.4.0->pt-core-news-lg==3.4.0) (0.0.3)\n",
            "Requirement already satisfied: blis<0.8.0,>=0.7.8 in /usr/local/lib/python3.7/dist-packages (from thinc<8.2.0,>=8.1.0->spacy<3.5.0,>=3.4.0->pt-core-news-lg==3.4.0) (0.7.8)\n",
            "Requirement already satisfied: click<9.0.0,>=7.1.1 in /usr/local/lib/python3.7/dist-packages (from typer<0.5.0,>=0.3.0->spacy<3.5.0,>=3.4.0->pt-core-news-lg==3.4.0) (7.1.2)\n",
            "Requirement already satisfied: MarkupSafe>=0.23 in /usr/local/lib/python3.7/dist-packages (from jinja2->spacy<3.5.0,>=3.4.0->pt-core-news-lg==3.4.0) (2.0.1)\n",
            "Installing collected packages: pt-core-news-lg\n",
            "Successfully installed pt-core-news-lg-3.4.0\n",
            "\u001b[33mWARNING: Running pip as the 'root' user can result in broken permissions and conflicting behaviour with the system package manager. It is recommended to use a virtual environment instead: https://pip.pypa.io/warnings/venv\u001b[0m\u001b[33m\n",
            "\u001b[0m\u001b[38;5;2m✔ Download and installation successful\u001b[0m\n",
            "You can now load the package via spacy.load('pt_core_news_lg')\n"
          ]
        }
      ]
    },
    {
      "cell_type": "code",
      "source": [
        "!python -m spacy download en_core_web_trf"
      ],
      "metadata": {
        "id": "iinWlAqKbf8x",
        "colab": {
          "base_uri": "https://localhost:8080/"
        },
        "outputId": "10bc4040-6fad-4637-e687-49588098d6d3"
      },
      "execution_count": 4,
      "outputs": [
        {
          "output_type": "stream",
          "name": "stdout",
          "text": [
            "2022-10-21 21:50:11.046669: E tensorflow/stream_executor/cuda/cuda_driver.cc:271] failed call to cuInit: CUDA_ERROR_NO_DEVICE: no CUDA-capable device is detected\n",
            "Looking in indexes: https://pypi.org/simple, https://us-python.pkg.dev/colab-wheels/public/simple/\n",
            "Collecting en-core-web-trf==3.4.1\n",
            "  Downloading https://github.com/explosion/spacy-models/releases/download/en_core_web_trf-3.4.1/en_core_web_trf-3.4.1-py3-none-any.whl (460.3 MB)\n",
            "\u001b[2K     \u001b[90m━━━━━━━━━━━━━━━━━━━━━━━━━━━━━━━━━━━━━━━\u001b[0m \u001b[32m460.3/460.3 MB\u001b[0m \u001b[31m2.7 MB/s\u001b[0m eta \u001b[36m0:00:00\u001b[0m\n",
            "\u001b[?25hRequirement already satisfied: spacy<3.5.0,>=3.4.1 in /usr/local/lib/python3.7/dist-packages (from en-core-web-trf==3.4.1) (3.4.2)\n",
            "Collecting spacy-transformers<1.2.0,>=1.1.2\n",
            "  Downloading spacy_transformers-1.1.8-py2.py3-none-any.whl (53 kB)\n",
            "\u001b[2K     \u001b[90m━━━━━━━━━━━━━━━━━━━━━━━━━━━━━━━━━━━━━━━━\u001b[0m \u001b[32m53.4/53.4 kB\u001b[0m \u001b[31m4.2 MB/s\u001b[0m eta \u001b[36m0:00:00\u001b[0m\n",
            "\u001b[?25hRequirement already satisfied: packaging>=20.0 in /usr/local/lib/python3.7/dist-packages (from spacy<3.5.0,>=3.4.1->en-core-web-trf==3.4.1) (21.3)\n",
            "Requirement already satisfied: murmurhash<1.1.0,>=0.28.0 in /usr/local/lib/python3.7/dist-packages (from spacy<3.5.0,>=3.4.1->en-core-web-trf==3.4.1) (1.0.9)\n",
            "Requirement already satisfied: tqdm<5.0.0,>=4.38.0 in /usr/local/lib/python3.7/dist-packages (from spacy<3.5.0,>=3.4.1->en-core-web-trf==3.4.1) (4.64.1)\n",
            "Requirement already satisfied: setuptools in /usr/local/lib/python3.7/dist-packages (from spacy<3.5.0,>=3.4.1->en-core-web-trf==3.4.1) (65.5.0)\n",
            "Requirement already satisfied: thinc<8.2.0,>=8.1.0 in /usr/local/lib/python3.7/dist-packages (from spacy<3.5.0,>=3.4.1->en-core-web-trf==3.4.1) (8.1.4)\n",
            "Requirement already satisfied: wasabi<1.1.0,>=0.9.1 in /usr/local/lib/python3.7/dist-packages (from spacy<3.5.0,>=3.4.1->en-core-web-trf==3.4.1) (0.10.1)\n",
            "Requirement already satisfied: typing-extensions<4.2.0,>=3.7.4 in /usr/local/lib/python3.7/dist-packages (from spacy<3.5.0,>=3.4.1->en-core-web-trf==3.4.1) (4.1.1)\n",
            "Requirement already satisfied: langcodes<4.0.0,>=3.2.0 in /usr/local/lib/python3.7/dist-packages (from spacy<3.5.0,>=3.4.1->en-core-web-trf==3.4.1) (3.3.0)\n",
            "Requirement already satisfied: typer<0.5.0,>=0.3.0 in /usr/local/lib/python3.7/dist-packages (from spacy<3.5.0,>=3.4.1->en-core-web-trf==3.4.1) (0.4.2)\n",
            "Requirement already satisfied: pathy>=0.3.5 in /usr/local/lib/python3.7/dist-packages (from spacy<3.5.0,>=3.4.1->en-core-web-trf==3.4.1) (0.6.2)\n",
            "Requirement already satisfied: cymem<2.1.0,>=2.0.2 in /usr/local/lib/python3.7/dist-packages (from spacy<3.5.0,>=3.4.1->en-core-web-trf==3.4.1) (2.0.7)\n",
            "Requirement already satisfied: requests<3.0.0,>=2.13.0 in /usr/local/lib/python3.7/dist-packages (from spacy<3.5.0,>=3.4.1->en-core-web-trf==3.4.1) (2.23.0)\n",
            "Requirement already satisfied: srsly<3.0.0,>=2.4.3 in /usr/local/lib/python3.7/dist-packages (from spacy<3.5.0,>=3.4.1->en-core-web-trf==3.4.1) (2.4.4)\n",
            "Requirement already satisfied: numpy>=1.15.0 in /usr/local/lib/python3.7/dist-packages (from spacy<3.5.0,>=3.4.1->en-core-web-trf==3.4.1) (1.21.6)\n",
            "Requirement already satisfied: preshed<3.1.0,>=3.0.2 in /usr/local/lib/python3.7/dist-packages (from spacy<3.5.0,>=3.4.1->en-core-web-trf==3.4.1) (3.0.8)\n",
            "Requirement already satisfied: pydantic!=1.8,!=1.8.1,<1.11.0,>=1.7.4 in /usr/local/lib/python3.7/dist-packages (from spacy<3.5.0,>=3.4.1->en-core-web-trf==3.4.1) (1.9.2)\n",
            "Requirement already satisfied: spacy-loggers<2.0.0,>=1.0.0 in /usr/local/lib/python3.7/dist-packages (from spacy<3.5.0,>=3.4.1->en-core-web-trf==3.4.1) (1.0.3)\n",
            "Requirement already satisfied: jinja2 in /usr/local/lib/python3.7/dist-packages (from spacy<3.5.0,>=3.4.1->en-core-web-trf==3.4.1) (2.11.3)\n",
            "Requirement already satisfied: catalogue<2.1.0,>=2.0.6 in /usr/local/lib/python3.7/dist-packages (from spacy<3.5.0,>=3.4.1->en-core-web-trf==3.4.1) (2.0.8)\n",
            "Requirement already satisfied: spacy-legacy<3.1.0,>=3.0.10 in /usr/local/lib/python3.7/dist-packages (from spacy<3.5.0,>=3.4.1->en-core-web-trf==3.4.1) (3.0.10)\n",
            "Collecting transformers<4.22.0,>=3.4.0\n",
            "  Downloading transformers-4.21.3-py3-none-any.whl (4.7 MB)\n",
            "\u001b[2K     \u001b[90m━━━━━━━━━━━━━━━━━━━━━━━━━━━━━━━━━━━━━━━━\u001b[0m \u001b[32m4.7/4.7 MB\u001b[0m \u001b[31m54.3 MB/s\u001b[0m eta \u001b[36m0:00:00\u001b[0m\n",
            "\u001b[?25hCollecting spacy-alignments<1.0.0,>=0.7.2\n",
            "  Downloading spacy_alignments-0.8.6-cp37-cp37m-manylinux_2_17_x86_64.manylinux2014_x86_64.whl (1.1 MB)\n",
            "\u001b[2K     \u001b[90m━━━━━━━━━━━━━━━━━━━━━━━━━━━━━━━━━━━━━━━━\u001b[0m \u001b[32m1.1/1.1 MB\u001b[0m \u001b[31m43.7 MB/s\u001b[0m eta \u001b[36m0:00:00\u001b[0m\n",
            "\u001b[?25hRequirement already satisfied: torch>=1.6.0 in /usr/local/lib/python3.7/dist-packages (from spacy-transformers<1.2.0,>=1.1.2->en-core-web-trf==3.4.1) (1.12.1+cu113)\n",
            "Requirement already satisfied: zipp>=0.5 in /usr/local/lib/python3.7/dist-packages (from catalogue<2.1.0,>=2.0.6->spacy<3.5.0,>=3.4.1->en-core-web-trf==3.4.1) (3.9.0)\n",
            "Requirement already satisfied: pyparsing!=3.0.5,>=2.0.2 in /usr/local/lib/python3.7/dist-packages (from packaging>=20.0->spacy<3.5.0,>=3.4.1->en-core-web-trf==3.4.1) (3.0.9)\n",
            "Requirement already satisfied: smart-open<6.0.0,>=5.2.1 in /usr/local/lib/python3.7/dist-packages (from pathy>=0.3.5->spacy<3.5.0,>=3.4.1->en-core-web-trf==3.4.1) (5.2.1)\n",
            "Requirement already satisfied: chardet<4,>=3.0.2 in /usr/local/lib/python3.7/dist-packages (from requests<3.0.0,>=2.13.0->spacy<3.5.0,>=3.4.1->en-core-web-trf==3.4.1) (3.0.4)\n",
            "Requirement already satisfied: idna<3,>=2.5 in /usr/local/lib/python3.7/dist-packages (from requests<3.0.0,>=2.13.0->spacy<3.5.0,>=3.4.1->en-core-web-trf==3.4.1) (2.10)\n",
            "Requirement already satisfied: urllib3!=1.25.0,!=1.25.1,<1.26,>=1.21.1 in /usr/local/lib/python3.7/dist-packages (from requests<3.0.0,>=2.13.0->spacy<3.5.0,>=3.4.1->en-core-web-trf==3.4.1) (1.24.3)\n",
            "Requirement already satisfied: certifi>=2017.4.17 in /usr/local/lib/python3.7/dist-packages (from requests<3.0.0,>=2.13.0->spacy<3.5.0,>=3.4.1->en-core-web-trf==3.4.1) (2022.9.24)\n",
            "Requirement already satisfied: confection<1.0.0,>=0.0.1 in /usr/local/lib/python3.7/dist-packages (from thinc<8.2.0,>=8.1.0->spacy<3.5.0,>=3.4.1->en-core-web-trf==3.4.1) (0.0.3)\n",
            "Requirement already satisfied: blis<0.8.0,>=0.7.8 in /usr/local/lib/python3.7/dist-packages (from thinc<8.2.0,>=8.1.0->spacy<3.5.0,>=3.4.1->en-core-web-trf==3.4.1) (0.7.8)\n",
            "Requirement already satisfied: importlib-metadata in /usr/local/lib/python3.7/dist-packages (from transformers<4.22.0,>=3.4.0->spacy-transformers<1.2.0,>=1.1.2->en-core-web-trf==3.4.1) (4.13.0)\n",
            "Collecting tokenizers!=0.11.3,<0.13,>=0.11.1\n",
            "  Downloading tokenizers-0.12.1-cp37-cp37m-manylinux_2_12_x86_64.manylinux2010_x86_64.whl (6.6 MB)\n",
            "\u001b[2K     \u001b[90m━━━━━━━━━━━━━━━━━━━━━━━━━━━━━━━━━━━━━━━━\u001b[0m \u001b[32m6.6/6.6 MB\u001b[0m \u001b[31m76.8 MB/s\u001b[0m eta \u001b[36m0:00:00\u001b[0m\n",
            "\u001b[?25hRequirement already satisfied: pyyaml>=5.1 in /usr/local/lib/python3.7/dist-packages (from transformers<4.22.0,>=3.4.0->spacy-transformers<1.2.0,>=1.1.2->en-core-web-trf==3.4.1) (6.0)\n",
            "Requirement already satisfied: regex!=2019.12.17 in /usr/local/lib/python3.7/dist-packages (from transformers<4.22.0,>=3.4.0->spacy-transformers<1.2.0,>=1.1.2->en-core-web-trf==3.4.1) (2022.6.2)\n",
            "Requirement already satisfied: filelock in /usr/local/lib/python3.7/dist-packages (from transformers<4.22.0,>=3.4.0->spacy-transformers<1.2.0,>=1.1.2->en-core-web-trf==3.4.1) (3.8.0)\n",
            "Collecting huggingface-hub<1.0,>=0.1.0\n",
            "  Downloading huggingface_hub-0.10.1-py3-none-any.whl (163 kB)\n",
            "\u001b[2K     \u001b[90m━━━━━━━━━━━━━━━━━━━━━━━━━━━━━━━━━━━━━━\u001b[0m \u001b[32m163.5/163.5 kB\u001b[0m \u001b[31m20.7 MB/s\u001b[0m eta \u001b[36m0:00:00\u001b[0m\n",
            "\u001b[?25hRequirement already satisfied: click<9.0.0,>=7.1.1 in /usr/local/lib/python3.7/dist-packages (from typer<0.5.0,>=0.3.0->spacy<3.5.0,>=3.4.1->en-core-web-trf==3.4.1) (7.1.2)\n",
            "Requirement already satisfied: MarkupSafe>=0.23 in /usr/local/lib/python3.7/dist-packages (from jinja2->spacy<3.5.0,>=3.4.1->en-core-web-trf==3.4.1) (2.0.1)\n",
            "Installing collected packages: tokenizers, spacy-alignments, huggingface-hub, transformers, spacy-transformers, en-core-web-trf\n",
            "Successfully installed en-core-web-trf-3.4.1 huggingface-hub-0.10.1 spacy-alignments-0.8.6 spacy-transformers-1.1.8 tokenizers-0.12.1 transformers-4.21.3\n",
            "\u001b[33mWARNING: Running pip as the 'root' user can result in broken permissions and conflicting behaviour with the system package manager. It is recommended to use a virtual environment instead: https://pip.pypa.io/warnings/venv\u001b[0m\u001b[33m\n",
            "\u001b[0m\u001b[38;5;2m✔ Download and installation successful\u001b[0m\n",
            "You can now load the package via spacy.load('en_core_web_trf')\n"
          ]
        }
      ]
    },
    {
      "cell_type": "code",
      "source": [
        "import spacy"
      ],
      "metadata": {
        "id": "qumMU0tibjcY"
      },
      "execution_count": 5,
      "outputs": []
    },
    {
      "cell_type": "code",
      "source": [
        "spacy"
      ],
      "metadata": {
        "colab": {
          "base_uri": "https://localhost:8080/"
        },
        "id": "a-OweVsAc-Ko",
        "outputId": "4352dfe6-777d-47b4-ce11-188063f8e089"
      },
      "execution_count": 6,
      "outputs": [
        {
          "output_type": "execute_result",
          "data": {
            "text/plain": [
              "<module 'spacy' from '/usr/local/lib/python3.7/dist-packages/spacy/__init__.py'>"
            ]
          },
          "metadata": {},
          "execution_count": 6
        }
      ]
    },
    {
      "cell_type": "markdown",
      "source": [
        "# 2. Buscando dados no Tweeter usando o `snscrape`"
      ],
      "metadata": {
        "id": "plN6fbbw7ff7"
      }
    },
    {
      "cell_type": "code",
      "source": [
        "!pip3 install snscrape"
      ],
      "metadata": {
        "id": "CeoryS0lmBPr",
        "colab": {
          "base_uri": "https://localhost:8080/"
        },
        "outputId": "6cf5ab53-07ea-475c-cb4c-c33e4ff30103"
      },
      "execution_count": 7,
      "outputs": [
        {
          "output_type": "stream",
          "name": "stdout",
          "text": [
            "Looking in indexes: https://pypi.org/simple, https://us-python.pkg.dev/colab-wheels/public/simple/\n",
            "Collecting snscrape\n",
            "  Downloading snscrape-0.3.4-py3-none-any.whl (35 kB)\n",
            "Requirement already satisfied: beautifulsoup4 in /usr/local/lib/python3.7/dist-packages (from snscrape) (4.6.3)\n",
            "Requirement already satisfied: lxml in /usr/local/lib/python3.7/dist-packages (from snscrape) (4.9.1)\n",
            "Requirement already satisfied: requests[socks] in /usr/local/lib/python3.7/dist-packages (from snscrape) (2.23.0)\n",
            "Requirement already satisfied: idna<3,>=2.5 in /usr/local/lib/python3.7/dist-packages (from requests[socks]->snscrape) (2.10)\n",
            "Requirement already satisfied: certifi>=2017.4.17 in /usr/local/lib/python3.7/dist-packages (from requests[socks]->snscrape) (2022.9.24)\n",
            "Requirement already satisfied: chardet<4,>=3.0.2 in /usr/local/lib/python3.7/dist-packages (from requests[socks]->snscrape) (3.0.4)\n",
            "Requirement already satisfied: urllib3!=1.25.0,!=1.25.1,<1.26,>=1.21.1 in /usr/local/lib/python3.7/dist-packages (from requests[socks]->snscrape) (1.24.3)\n",
            "Requirement already satisfied: PySocks!=1.5.7,>=1.5.6 in /usr/local/lib/python3.7/dist-packages (from requests[socks]->snscrape) (1.7.1)\n",
            "Installing collected packages: snscrape\n",
            "Successfully installed snscrape-0.3.4\n",
            "\u001b[33mWARNING: Running pip as the 'root' user can result in broken permissions and conflicting behaviour with the system package manager. It is recommended to use a virtual environment instead: https://pip.pypa.io/warnings/venv\u001b[0m\u001b[33m\n",
            "\u001b[0m"
          ]
        }
      ]
    },
    {
      "cell_type": "code",
      "source": [
        "import snscrape.modules.twitter as sntwitter\n",
        "import pandas as pd"
      ],
      "metadata": {
        "id": "maY5i6ydUxtQ"
      },
      "execution_count": 8,
      "outputs": []
    },
    {
      "cell_type": "markdown",
      "source": [
        "**Input: `query`, `maxTweets`**\n",
        "\n",
        "`query` será utilizada como input para a busca no twiter\n",
        "\n",
        "`maxTweets` será a quantidade de maxima de twits buscada\n"
      ],
      "metadata": {
        "id": "_bcZWvdHcJJs"
      }
    },
    {
      "cell_type": "code",
      "source": [
        "query = 'Simone Tebet since:2022-10-02 until:2022-10-07'\n",
        "maxTweets = 100"
      ],
      "metadata": {
        "id": "Gsrww3nFb-s7"
      },
      "execution_count": 9,
      "outputs": []
    },
    {
      "cell_type": "markdown",
      "source": [
        "Busca uma quantidade de `maxTweets` utilizando a  `query`"
      ],
      "metadata": {
        "id": "NJrWONk0eofI"
      }
    },
    {
      "cell_type": "code",
      "source": [
        "i = 0\n",
        "tweets_list = []\n",
        "for tweet in sntwitter.TwitterSearchScraper(query).get_items():\n",
        "  if i > maxTweets:\n",
        "    break\n",
        "  tweets_list.append([tweet.date, tweet.url, tweet.username, tweet.content])\n",
        "  i = i + 1"
      ],
      "metadata": {
        "id": "sswhznZAUxwA"
      },
      "execution_count": 10,
      "outputs": []
    },
    {
      "cell_type": "markdown",
      "source": [
        "Resultado: lista de twites"
      ],
      "metadata": {
        "id": "SNc_Pxh8d93J"
      }
    },
    {
      "cell_type": "code",
      "source": [
        "tweets_list"
      ],
      "metadata": {
        "id": "bmDhD_7vd9pE",
        "colab": {
          "base_uri": "https://localhost:8080/"
        },
        "outputId": "9d67a5f4-7168-45d6-8fc3-e5ab051400a2"
      },
      "execution_count": 11,
      "outputs": [
        {
          "output_type": "execute_result",
          "data": {
            "text/plain": [
              "[[datetime.datetime(2022, 10, 6, 23, 59, 56, tzinfo=datetime.timezone.utc),\n",
              "  'https://twitter.com/amadouaminata/status/1578173239951380480',\n",
              "  'amadouaminata',\n",
              "  '@simonetebetbr @LulaOficial Obrigado, Presidente Simone. O Brasil precisa de pessoas como a Senhora para tornar este pais, pais de todo o mundo. Um Pais rico como o Brasil, minha segunda Patria, não pode ter tantas pessoas pobres e miseraveis.'],\n",
              " [datetime.datetime(2022, 10, 6, 23, 59, 43, tzinfo=datetime.timezone.utc),\n",
              "  'https://twitter.com/MARCELOCALDASP1/status/1578173188596387840',\n",
              "  'MARCELOCALDASP1',\n",
              "  '@JosueLucca @KaykyStt @nahccas @manapg01 @MateusKiller22 @andrefnm @simonetebetbr Calma amiguinho, temos várias opções tais como Arminio Fraga, Meirelles, pérsio árida etc....não precisa ficar de mi-mi-mi de Venezuela e Argentina.....percebe-se que caiu na lavagem cerebral bolsonarista (tu é evangélico?)'],\n",
              " [datetime.datetime(2022, 10, 6, 23, 59, 39, tzinfo=datetime.timezone.utc),\n",
              "  'https://twitter.com/marlimpoletto/status/1578173170913198081',\n",
              "  'marlimpoletto',\n",
              "  '@simonetebetbr Vc foi uma piada.'],\n",
              " [datetime.datetime(2022, 10, 6, 23, 59, 37, tzinfo=datetime.timezone.utc),\n",
              "  'https://twitter.com/DaysonCamargoM/status/1578173162964979713',\n",
              "  'DaysonCamargoM',\n",
              "  '@simonetebetbr Quem te viu quem te vê! \\nHoje vc me lembra 2 patinhos na Lagoa...22'],\n",
              " [datetime.datetime(2022, 10, 6, 23, 59, 34, tzinfo=datetime.timezone.utc),\n",
              "  'https://twitter.com/prjairomaciel/status/1578173149036040193',\n",
              "  'prjairomaciel',\n",
              "  '@simonetebetbr É claro fia, tu quer uma tetona pra mamar também.'],\n",
              " [datetime.datetime(2022, 10, 6, 23, 59, 32, tzinfo=datetime.timezone.utc),\n",
              "  'https://twitter.com/CasemiroWill/status/1578173140022304769',\n",
              "  'CasemiroWill',\n",
              "  '@simonetebetbr @LulaOficial Simone, em palavras simples, vc é fod*! As pessoas não entenderam que a questão não é colocar o Lula. A questão toda é #ForaBolsonaro!'],\n",
              " [datetime.datetime(2022, 10, 6, 23, 59, 26, tzinfo=datetime.timezone.utc),\n",
              "  'https://twitter.com/afroragga/status/1578173117507457024',\n",
              "  'afroragga',\n",
              "  '@felipeneto Agora sustentável, capitalismo e Simone Tebet não combinam mas entendi seu ponto'],\n",
              " [datetime.datetime(2022, 10, 6, 23, 59, 23, tzinfo=datetime.timezone.utc),\n",
              "  'https://twitter.com/ooliveiramarcus/status/1578173101698850816',\n",
              "  'ooliveiramarcus',\n",
              "  '@Jos16941185 @simonetebetbr @LulaOficial Confiei meu voto nela e confio no posicionamento dela no segundo turno. Lula agora e Tebet em 2026'],\n",
              " [datetime.datetime(2022, 10, 6, 23, 59, 20, tzinfo=datetime.timezone.utc),\n",
              "  'https://twitter.com/JoseCar92779602/status/1578173092563628033',\n",
              "  'JoseCar92779602',\n",
              "  '@simonetebetbr Você é tão insignificante que isso não fará diferença alguma .'],\n",
              " [datetime.datetime(2022, 10, 6, 23, 59, 20, tzinfo=datetime.timezone.utc),\n",
              "  'https://twitter.com/ricardobs1976/status/1578173088625197056',\n",
              "  'ricardobs1976',\n",
              "  'Que bom!!! 👏🏼@simonetebetbr @maragabrilli https://t.co/D5BVImTWSa'],\n",
              " [datetime.datetime(2022, 10, 6, 23, 59, 17, tzinfo=datetime.timezone.utc),\n",
              "  'https://twitter.com/BETO4676/status/1578173079183769600',\n",
              "  'BETO4676',\n",
              "  '@cirogomes , @DeputadoFederal e @simonetebetbr .\\nOs cheiradores de cú !. https://t.co/GdVii0cPEN'],\n",
              " [datetime.datetime(2022, 10, 6, 23, 59, 16, tzinfo=datetime.timezone.utc),\n",
              "  'https://twitter.com/grassi_marcia/status/1578173073924231168',\n",
              "  'grassi_marcia',\n",
              "  '@simonetebetbr Eu tbm não. Já que é obrigatório, bora botar presidiário no seu devido lugar:  o xilindró.'],\n",
              " [datetime.datetime(2022, 10, 6, 23, 59, 8, tzinfo=datetime.timezone.utc),\n",
              "  'https://twitter.com/LucasDi1111/status/1578173038948122624',\n",
              "  'LucasDi1111',\n",
              "  '@JeanPie42823671 @Ticostacruz Isso! Ciro se jogou no Limbo por esforço próprio. Escolheu atacar Lula e fazer tabelinhas com Bolsonaro. Em 2026, Simone Tebet terá meu apoio.'],\n",
              " [datetime.datetime(2022, 10, 6, 23, 59, 4, tzinfo=datetime.timezone.utc),\n",
              "  'https://twitter.com/bete_sousa17/status/1578173022049034241',\n",
              "  'bete_sousa17',\n",
              "  '@o_antagonista @simonetebetbr @LulaOficial Me libera também, votei em você, mas agora será nulo. 😪🇧🇷'],\n",
              " [datetime.datetime(2022, 10, 6, 23, 58, 53, tzinfo=datetime.timezone.utc),\n",
              "  'https://twitter.com/PastelDrika/status/1578172978214625280',\n",
              "  'PastelDrika',\n",
              "  '@LulaOficial @simonetebetbr Estamos juntes'],\n",
              " [datetime.datetime(2022, 10, 6, 23, 58, 47, tzinfo=datetime.timezone.utc),\n",
              "  'https://twitter.com/Marcos_lawyer/status/1578172950968139778',\n",
              "  'Marcos_lawyer',\n",
              "  '@fabriciohorta @simonetebetbr @SorayaThronicke @cirogomes @LulaOficial @Nilsonhandebol Sdv'],\n",
              " [datetime.datetime(2022, 10, 6, 23, 58, 46, tzinfo=datetime.timezone.utc),\n",
              "  'https://twitter.com/Lwdece1/status/1578172947432603651',\n",
              "  'Lwdece1',\n",
              "  '@simonetebetbr Obrigado https://t.co/Jq8qXeS8dy'],\n",
              " [datetime.datetime(2022, 10, 6, 23, 58, 34, tzinfo=datetime.timezone.utc),\n",
              "  'https://twitter.com/Joe_SSilva/status/1578172899067715585',\n",
              "  'Joe_SSilva',\n",
              "  '@simonetebetbr @LulaOficial Eu quero morar nessa propaganda do PT que você descreve, e, assim, vou ser feliz para sempre. Obrigado, Sterp. Agora estou você sair gritando “lula livre”. Por que a demora?'],\n",
              " [datetime.datetime(2022, 10, 6, 23, 58, 29, tzinfo=datetime.timezone.utc),\n",
              "  'https://twitter.com/observadorcrf/status/1578172877924315136',\n",
              "  'observadorcrf',\n",
              "  '@bferrari @cirogomes @simonetebetbr Valeu, amigão, obrigado a me ajudar na decisão. Vou de nulo com força nesse 2° turno👊👊👊\\nTenho muito orgulho de ser esse 3%'],\n",
              " [datetime.datetime(2022, 10, 6, 23, 58, 22, tzinfo=datetime.timezone.utc),\n",
              "  'https://twitter.com/soraiaamaral18/status/1578172848564097024',\n",
              "  'soraiaamaral18',\n",
              "  '@GiseliVergete @simonetebetbr O véu de boazinha terminou de cair'],\n",
              " [datetime.datetime(2022, 10, 6, 23, 58, 20, tzinfo=datetime.timezone.utc),\n",
              "  'https://twitter.com/RosaFcn/status/1578172837675687936',\n",
              "  'RosaFcn',\n",
              "  '@simonetebetbr Pela democracia nada, pela sua cara de pau e falta de carater.'],\n",
              " [datetime.datetime(2022, 10, 6, 23, 58, 19, tzinfo=datetime.timezone.utc),\n",
              "  'https://twitter.com/ftclaudinei/status/1578172835138523137',\n",
              "  'ftclaudinei',\n",
              "  '@CamilaPitanga @simonetebetbr @LulaOficial Não canso de ouvir e me emocionar com esse discurso. Ele já é histórico. Resume muito bem o momento.'],\n",
              " [datetime.datetime(2022, 10, 6, 23, 58, 19, tzinfo=datetime.timezone.utc),\n",
              "  'https://twitter.com/GambatiAdriana/status/1578172835058655237',\n",
              "  'GambatiAdriana',\n",
              "  '@simonetebetbr O que fez vc mudar de opinião tão rápido assim?? Já podemos imaginar... https://t.co/SZG27dSZxr'],\n",
              " [datetime.datetime(2022, 10, 6, 23, 58, 19, tzinfo=datetime.timezone.utc),\n",
              "  'https://twitter.com/Renezao10/status/1578172833519149056',\n",
              "  'Renezao10',\n",
              "  '@maragabrilli @simonetebetbr Lixos'],\n",
              " [datetime.datetime(2022, 10, 6, 23, 58, 14, tzinfo=datetime.timezone.utc),\n",
              "  'https://twitter.com/KeyllaSayonara/status/1578172815815036928',\n",
              "  'KeyllaSayonara',\n",
              "  '@PU2KOM @FHC @simonetebetbr @cirogomes é essa a democracia que vocês irão apoiar? Vocês amam muito o Brasil!!!!'],\n",
              " [datetime.datetime(2022, 10, 6, 23, 58, 8, tzinfo=datetime.timezone.utc),\n",
              "  'https://twitter.com/guinody/status/1578172788027756544',\n",
              "  'guinody',\n",
              "  '@ClarissaCotrim @leticiaiai Tá faltando voto? Pede pro eleitor da Simone Tebet.'],\n",
              " [datetime.datetime(2022, 10, 6, 23, 58, 7, tzinfo=datetime.timezone.utc),\n",
              "  'https://twitter.com/Renezao10/status/1578172786476208128',\n",
              "  'Renezao10',\n",
              "  '@simonetebetbr @maragabrilli Lixos'],\n",
              " [datetime.datetime(2022, 10, 6, 23, 58, 4, tzinfo=datetime.timezone.utc),\n",
              "  'https://twitter.com/JosifranFran/status/1578172770512699393',\n",
              "  'JosifranFran',\n",
              "  '@ferdi1916 @ecigle @EstelaVerduc @madruguinharock @mitielis @simonetebetbr Eu acho que você não perdeu alguém especial na pandemia, não tinha dinheiro pra salvar o seu país mais hj ele faz cortes para o orçamento secreto.🥴😴'],\n",
              " [datetime.datetime(2022, 10, 6, 23, 57, 56, tzinfo=datetime.timezone.utc),\n",
              "  'https://twitter.com/Jurubeba_13/status/1578172740003106820',\n",
              "  'Jurubeba_13',\n",
              "  '@jairbolsonaro Como disse a @simonetebetbr : mente tanto que acredita na própria mentira.'],\n",
              " [datetime.datetime(2022, 10, 6, 23, 57, 55, tzinfo=datetime.timezone.utc),\n",
              "  'https://twitter.com/BailoHelena/status/1578172734265253888',\n",
              "  'BailoHelena',\n",
              "  '@dudubrasil28 @SamPancher Eu votei na Simone Tebet, meu querido. Não voto em nenhum dos dois meliantes.'],\n",
              " [datetime.datetime(2022, 10, 6, 23, 57, 55, tzinfo=datetime.timezone.utc),\n",
              "  'https://twitter.com/JocerlandioP/status/1578172732939722752',\n",
              "  'JocerlandioP',\n",
              "  '@simonetebetbr @LulaOficial Vc vai fazer igual ao Bone, vai inocentar o criminoso?'],\n",
              " [datetime.datetime(2022, 10, 6, 23, 57, 53, tzinfo=datetime.timezone.utc),\n",
              "  'https://twitter.com/apathysantos/status/1578172724526161921',\n",
              "  'apathysantos',\n",
              "  'Vou deixar aqui a íntegra do vídeo da Simone Tebet sobre o ORÇAMENTO SECRETO onde o pessoal rouba $$ de NF inteira, não é porcentagem não. https://t.co/XeY8tLg9xF'],\n",
              " [datetime.datetime(2022, 10, 6, 23, 57, 48, tzinfo=datetime.timezone.utc),\n",
              "  'https://twitter.com/DhiegoCassol/status/1578172706310311936',\n",
              "  'DhiegoCassol',\n",
              "  '@valentimbee @MendesArislan @simonetebetbr @LulaOficial O governo Lula onde morriam 60 mil pessoas assassinadas todos os anos, viviam com um bolsa família que não dava para nada, filas de hospitais gigantescas, inclusive com várias reportagens de jornais da época mostrando essas pessoas morrendo nas filas e corrupção generalizada.'],\n",
              " [datetime.datetime(2022, 10, 6, 23, 57, 48, tzinfo=datetime.timezone.utc),\n",
              "  'https://twitter.com/MoratelliSilvio/status/1578172703957463041',\n",
              "  'MoratelliSilvio',\n",
              "  '@simonetebetbr https://t.co/G9tiWAmabG'],\n",
              " [datetime.datetime(2022, 10, 6, 23, 57, 40, tzinfo=datetime.timezone.utc),\n",
              "  'https://twitter.com/Laercio39210204/status/1578172669282820096',\n",
              "  'Laercio39210204',\n",
              "  'Simone tebet ou estepe fazendo defesa dos governos do nordeste do consórcio do nordeste https://t.co/Iul481ZkOC'],\n",
              " [datetime.datetime(2022, 10, 6, 23, 57, 33, tzinfo=datetime.timezone.utc),\n",
              "  'https://twitter.com/naldocarv/status/1578172642263187456',\n",
              "  'naldocarv',\n",
              "  '@o_antagonista @simonetebetbr Cínica!'],\n",
              " [datetime.datetime(2022, 10, 6, 23, 57, 29, tzinfo=datetime.timezone.utc),\n",
              "  'https://twitter.com/Cristianoguiraf/status/1578172625129336832',\n",
              "  'Cristianoguiraf',\n",
              "  '@simonetebetbr Quer enganar quem? Se tivesse dignidade não apoiaria um ladrão,corrupto, traidor da pátria, mas o q esperar de vcs políticos né  estão sempre querendo algumas vantagens e valores em troca de algo. Vc se queimou muito se aliando com essa quadrilha'],\n",
              " [datetime.datetime(2022, 10, 6, 23, 57, 28, tzinfo=datetime.timezone.utc),\n",
              "  'https://twitter.com/RaimundoSousaF5/status/1578172621836800003',\n",
              "  'RaimundoSousaF5',\n",
              "  '@GabrielBrotto1 @MFreireB_ @simonetebetbr Essas patriotas do vídeo não irão votar no Lula, e a exemplo delas certamente boa parte do eleitorado de Simone Tebet, irá votar em Bolsonaro!🇧🇷🇧🇷'],\n",
              " [datetime.datetime(2022, 10, 6, 23, 57, 27, tzinfo=datetime.timezone.utc),\n",
              "  'https://twitter.com/a25_ros/status/1578172616799653888',\n",
              "  'a25_ros',\n",
              "  'Assim disse SIMONE TEBET: https://t.co/HwWlb8LIro'],\n",
              " [datetime.datetime(2022, 10, 6, 23, 57, 10, tzinfo=datetime.timezone.utc),\n",
              "  'https://twitter.com/paulorubino/status/1578172543286099970',\n",
              "  'paulorubino',\n",
              "  'Juntos por uma vitória de @LulaOficial bonita, limpa , democrática e ampliada.@fcjuliaduailibi @leandrograss @heliomdoyle \\n@simonetebetbr @cirogomes @FHC @persio_e @edmarbacha https://t.co/omaSIpRZ1V'],\n",
              " [datetime.datetime(2022, 10, 6, 23, 57, 8, tzinfo=datetime.timezone.utc),\n",
              "  'https://twitter.com/WellingthonMar1/status/1578172537552281601',\n",
              "  'WellingthonMar1',\n",
              "  '@claudioedantas Que ingênua a @simonetebetbr . Bobinha!!'],\n",
              " [datetime.datetime(2022, 10, 6, 23, 57, 7, tzinfo=datetime.timezone.utc),\n",
              "  'https://twitter.com/marciacbgg/status/1578172532943118337',\n",
              "  'marciacbgg',\n",
              "  '@eswoj @simonetebetbr \"Ministério!\" Foi essa a palavra mágica que fez ela de defensora da anticorrupção para defensora do ladrão!'],\n",
              " [datetime.datetime(2022, 10, 6, 23, 57, 4, tzinfo=datetime.timezone.utc),\n",
              "  'https://twitter.com/Fernand66659378/status/1578172521144369152',\n",
              "  'Fernand66659378',\n",
              "  '@CamilaPitanga @simonetebetbr @LulaOficial Vai lá na família da atriz que morreu com tiro na cabeça faz o l pra família dela, a esquerda petista está defendendo os bandidos'],\n",
              " [datetime.datetime(2022, 10, 6, 23, 56, 55, tzinfo=datetime.timezone.utc),\n",
              "  'https://twitter.com/EvelineGonalve9/status/1578172484502884352',\n",
              "  'EvelineGonalve9',\n",
              "  '@LulaOficial @simonetebetbr https://t.co/vG9wMJUWHz'],\n",
              " [datetime.datetime(2022, 10, 6, 23, 56, 53, tzinfo=datetime.timezone.utc),\n",
              "  'https://twitter.com/Fabiopc5/status/1578172472255426560',\n",
              "  'Fabiopc5',\n",
              "  '@simonetebetbr @LulaOficial Bolsonaro reeleito 22'],\n",
              " [datetime.datetime(2022, 10, 6, 23, 56, 44, tzinfo=datetime.timezone.utc),\n",
              "  'https://twitter.com/limavanessa22/status/1578172437824294912',\n",
              "  'limavanessa22',\n",
              "  'A memória do povo não é Maia curta minha senhora @simonetebetbr https://t.co/TlGZtLRfsj'],\n",
              " [datetime.datetime(2022, 10, 6, 23, 56, 39, tzinfo=datetime.timezone.utc),\n",
              "  'https://twitter.com/ScheilaDanieleH/status/1578172413979697152',\n",
              "  'ScheilaDanieleH',\n",
              "  '@simonetebetbr Esse posicionamento não nos representa e não representa o MDB! https://t.co/zgvOHYAFQu'],\n",
              " [datetime.datetime(2022, 10, 6, 23, 56, 35, tzinfo=datetime.timezone.utc),\n",
              "  'https://twitter.com/GambatiAdriana/status/1578172397999382528',\n",
              "  'GambatiAdriana',\n",
              "  '@leticiaspiller @simonetebetbr @crisvector Vc acredita em Papai Noel também? Kkkk'],\n",
              " [datetime.datetime(2022, 10, 6, 23, 56, 34, tzinfo=datetime.timezone.utc),\n",
              "  'https://twitter.com/_Gahbb/status/1578172393549348866',\n",
              "  '_Gahbb',\n",
              "  '@simonetebetbr A palavra democracia vinda da boca de esquerdopatas e de quem se associa ao mesmo é válida até o término das eleições.'],\n",
              " [datetime.datetime(2022, 10, 6, 23, 56, 31, tzinfo=datetime.timezone.utc),\n",
              "  'https://twitter.com/jeffersonsp11/status/1578172383189270528',\n",
              "  'jeffersonsp11',\n",
              "  '🚨🚨🚨CORRUPÇÃO🚨🚨🚨\\n\\nSIMONE TEBET DENÚNCIA ORÇAMENTO SECRETO COMO FUNCIONA NO BRASIL 😨😨\\n\\nO Bandido do Chefe do Paulo Guedes deve mesmo odiar o Brasil.\\n\\nO Criador do BOLSOLÃO dentro da Igreja é Santo e Fora é um Mentiroso.\\n\\n#ForaBolsonaro https://t.co/1Vfw3HuTaj'],\n",
              " [datetime.datetime(2022, 10, 6, 23, 56, 27, tzinfo=datetime.timezone.utc),\n",
              "  'https://twitter.com/Preguinho2023/status/1578172364864770048',\n",
              "  'Preguinho2023',\n",
              "  '@simonetebetbr leva DNA de bandida, explico. Estes políticos que são descendentes de políticos tem o DNA de político e já aprenderam desde crianças a ser safados. Esta atitude desta canalha não surpreende https://t.co/JY2h59H10P'],\n",
              " [datetime.datetime(2022, 10, 6, 23, 56, 17, tzinfo=datetime.timezone.utc),\n",
              "  'https://twitter.com/DOCINHOPATRIOT1/status/1578172324045537280',\n",
              "  'DOCINHOPATRIOT1',\n",
              "  '@simonetebetbr @simonetebetbr cúmplice de ladrão #BolsonaroReeleitonoSegundoTurno'],\n",
              " [datetime.datetime(2022, 10, 6, 23, 56, 11, tzinfo=datetime.timezone.utc),\n",
              "  'https://twitter.com/Moura40Souza/status/1578172297269022721',\n",
              "  'Moura40Souza',\n",
              "  '@simonetebetbr Agora vc volta a seus pares...'],\n",
              " [datetime.datetime(2022, 10, 6, 23, 56, 10, tzinfo=datetime.timezone.utc),\n",
              "  'https://twitter.com/CampoliBete/status/1578172294626570240',\n",
              "  'CampoliBete',\n",
              "  '@simonetebetbr @Haddad_Fernando @LulaOficial Simone eu não entendo vc ficou desde o início falando do molusco e agora vai apoia lo nossa que decepção .'],\n",
              " [datetime.datetime(2022, 10, 6, 23, 56, 10, tzinfo=datetime.timezone.utc),\n",
              "  'https://twitter.com/MTulioXavier/status/1578172291694923776',\n",
              "  'MTulioXavier',\n",
              "  '@simonetebetbr Mas vai votar e apoiar um condenado que acabou com o Brasil. Grande exemplo a senhora vai dar.'],\n",
              " [datetime.datetime(2022, 10, 6, 23, 56, 6, tzinfo=datetime.timezone.utc),\n",
              "  'https://twitter.com/Fatima_Melero1/status/1578172277610336256',\n",
              "  'Fatima_Melero1',\n",
              "  '@rmotta2 Simone Tebet é uma oportunista que outrora foi tão relevante no impeachment de Dilma, e hoje se mostra de joelhos para o sistema. Apoiar Lula é não ter freios éticos.'],\n",
              " [datetime.datetime(2022, 10, 6, 23, 56, 5, tzinfo=datetime.timezone.utc),\n",
              "  'https://twitter.com/ryejifeels/status/1578172272204185601',\n",
              "  'ryejifeels',\n",
              "  '@betobaggio10 @WildMentalist @oclebergrechi @SeriesBrasil @LulaOficial @simonetebetbr @ptsaopaulosp @ptbrasil oxe? kkkkkkkkkkkkkkkk agora pronto'],\n",
              " [datetime.datetime(2022, 10, 6, 23, 55, 57, tzinfo=datetime.timezone.utc),\n",
              "  'https://twitter.com/Moises_pereira5/status/1578172240394264577',\n",
              "  'Moises_pereira5',\n",
              "  '@felipeadeamor @madruguinharock @mitielis @simonetebetbr Se pauta religiosa ganhasse eleição, haddad e davila em missa, estariam na presidencia hoje. Mas a mentira não cola assim do dia pra noite'],\n",
              " [datetime.datetime(2022, 10, 6, 23, 55, 51, tzinfo=datetime.timezone.utc),\n",
              "  'https://twitter.com/tio_calixto/status/1578172215018676224',\n",
              "  'tio_calixto',\n",
              "  '@crisvector @simonetebetbr @LulaOficial Galera vota com o cu e n com a cabeça é foda kkkk'],\n",
              " [datetime.datetime(2022, 10, 6, 23, 55, 47, tzinfo=datetime.timezone.utc),\n",
              "  'https://twitter.com/coeli060692/status/1578172195221577728',\n",
              "  'coeli060692',\n",
              "  'GRATIDÃO SIMONE TEBET https://t.co/uKyExHXavs'],\n",
              " [datetime.datetime(2022, 10, 6, 23, 55, 46, tzinfo=datetime.timezone.utc),\n",
              "  'https://twitter.com/RobertoCadima1/status/1578172192487006208',\n",
              "  'RobertoCadima1',\n",
              "  '@simonetebetbr Safada sem vergonha\\nPelas pessoas que morreram do vírus chinês cadê os $50.000.000,00 que você não quis investigar. Mentirosa'],\n",
              " [datetime.datetime(2022, 10, 6, 23, 55, 36, tzinfo=datetime.timezone.utc),\n",
              "  'https://twitter.com/NiltonJ86627584/status/1578172149126205441',\n",
              "  'NiltonJ86627584',\n",
              "  '@simonetebetbr Que vergonha!\\nFarinha do.mesmo saco! https://t.co/1C53sip35E'],\n",
              " [datetime.datetime(2022, 10, 6, 23, 55, 34, tzinfo=datetime.timezone.utc),\n",
              "  'https://twitter.com/luaninha_fc/status/1578172142398672897',\n",
              "  'luaninha_fc',\n",
              "  '@teagoliveira @simonetebetbr @naoencheopai'],\n",
              " [datetime.datetime(2022, 10, 6, 23, 55, 31, tzinfo=datetime.timezone.utc),\n",
              "  'https://twitter.com/JlioFragoso3/status/1578172128134057984',\n",
              "  'JlioFragoso3',\n",
              "  '@lulaverso @simonetebetbr Até ontem o cara era ladrão... Hj deposita voto de confiança'],\n",
              " [datetime.datetime(2022, 10, 6, 23, 55, 30, tzinfo=datetime.timezone.utc),\n",
              "  'https://twitter.com/AnaLaur30556242/status/1578172124321042432',\n",
              "  'AnaLaur30556242',\n",
              "  '@antonioprata @simonetebetbr Maravilhosa, ganhou meu voto pra 2026 🥰🥰🥰'],\n",
              " [datetime.datetime(2022, 10, 6, 23, 55, 27, tzinfo=datetime.timezone.utc),\n",
              "  'https://twitter.com/benedito_n2/status/1578172113625575424',\n",
              "  'benedito_n2',\n",
              "  '@senadorhumberto @LulaOficial @cirogomes @simonetebetbr Frente democrática kkkkkkkkkkkkkkkkkkkkkkkkkk...chamem o ortega.'],\n",
              " [datetime.datetime(2022, 10, 6, 23, 55, 27, tzinfo=datetime.timezone.utc),\n",
              "  'https://twitter.com/neociteez/status/1578172112207953920',\n",
              "  'neociteez',\n",
              "  '@wLuizz_ simone tebet po tenho ctz que ela maceta a soraya'],\n",
              " [datetime.datetime(2022, 10, 6, 23, 55, tzinfo=datetime.timezone.utc),\n",
              "  'https://twitter.com/BastardaInglri1/status/1578171998387277824',\n",
              "  'BastardaInglri1',\n",
              "  '@rafaelmprestes @simonetebetbr @LulaOficial Ela sempre disse que estaria do lado da democracia, e que escolheria um lado caso não chegasse ao segundo turno, portanto, meu caro, não seja tendencioso.'],\n",
              " [datetime.datetime(2022, 10, 6, 23, 54, 59, tzinfo=datetime.timezone.utc),\n",
              "  'https://twitter.com/CSA1103/status/1578171993878241281',\n",
              "  'CSA1103',\n",
              "  'Como uma mulher pode votar num \"pulha\" desses???\\n\\nBolsonaro desdenha do apoio de Simone Tebet a Lula: \"Não sei quem é\" | Eleições 2022 | Valor Econômico https://t.co/c85X1l6SUI'],\n",
              " [datetime.datetime(2022, 10, 6, 23, 54, 55, tzinfo=datetime.timezone.utc),\n",
              "  'https://twitter.com/Lorrayneecobio/status/1578171979722420224',\n",
              "  'Lorrayneecobio',\n",
              "  '@WildMentalist @oclebergrechi @ryejifeels @SeriesBrasil @LulaOficial @simonetebetbr @ptsaopaulosp @ptbrasil Primeiro*'],\n",
              " [datetime.datetime(2022, 10, 6, 23, 54, 39, tzinfo=datetime.timezone.utc),\n",
              "  'https://twitter.com/flavioindio/status/1578171911724404737',\n",
              "  'flavioindio',\n",
              "  '@simonetebetbr Ok. Não anulará. Voltará no ladrão. Sua máscara caiu, querida. Vai @jairbolsonaro . Game Over!'],\n",
              " [datetime.datetime(2022, 10, 6, 23, 54, 30, tzinfo=datetime.timezone.utc),\n",
              "  'https://twitter.com/Laercio39210204/status/1578171872801619968',\n",
              "  'Laercio39210204',\n",
              "  'Simone Tebet,  a Estepe do lula defendeu essa turma de governadores consórcio nordeste https://t.co/4zyik4W1CK'],\n",
              " [datetime.datetime(2022, 10, 6, 23, 54, 27, tzinfo=datetime.timezone.utc),\n",
              "  'https://twitter.com/AlanArantes5/status/1578171860499730433',\n",
              "  'AlanArantes5',\n",
              "  '@simonetebetbr Traíra vendida pro comunismo. Vergonha q é bom nenhuma.'],\n",
              " [datetime.datetime(2022, 10, 6, 23, 54, 24, tzinfo=datetime.timezone.utc),\n",
              "  'https://twitter.com/_Janoninho/status/1578171847081803776',\n",
              "  '_Janoninho',\n",
              "  '@BlogdoNoblat @vacinaemascara @simonetebetbr, MUITO OBRIGADO'],\n",
              " [datetime.datetime(2022, 10, 6, 23, 54, 15, tzinfo=datetime.timezone.utc),\n",
              "  'https://twitter.com/Fabiopc5/status/1578171812164341760',\n",
              "  'Fabiopc5',\n",
              "  '@simonetebetbr @LulaOficial Seu apoio é por poder, você vendeu a alma pro diabo em troca de poder. Nunca será respeitada, você escolheu o lado da corrupção e do roubo.'],\n",
              " [datetime.datetime(2022, 10, 6, 23, 54, 13, tzinfo=datetime.timezone.utc),\n",
              "  'https://twitter.com/GiseliVergete/status/1578171801363881984',\n",
              "  'GiseliVergete',\n",
              "  'No fundo o que eles querem é dinheiro e poder.. E vc ai da turma \"mulher vota em mulher\" se f.u.d.e.u 😂😂😂😂😂 ela ta cagando pra vcs. Ne nao dona @simonetebetbr https://t.co/kh9ialwxAP'],\n",
              " [datetime.datetime(2022, 10, 6, 23, 54, 12, tzinfo=datetime.timezone.utc),\n",
              "  'https://twitter.com/MotocaBolsonaro/status/1578171799249920000',\n",
              "  'MotocaBolsonaro',\n",
              "  '@simonetebetbr Vai votar em bandido condenado 🤣🤣🤣🤣🤣🤣🤣'],\n",
              " [datetime.datetime(2022, 10, 6, 23, 54, 4, tzinfo=datetime.timezone.utc),\n",
              "  'https://twitter.com/FranciscoMacen8/status/1578171763485134848',\n",
              "  'FranciscoMacen8',\n",
              "  '@simonetebetbr @LulaOficial Seja apoio é por outra coisa'],\n",
              " [datetime.datetime(2022, 10, 6, 23, 54, 3, tzinfo=datetime.timezone.utc),\n",
              "  'https://twitter.com/LucianoWagnerA1/status/1578171762298478592',\n",
              "  'LucianoWagnerA1',\n",
              "  '@simonetebetbr @LulaOficial https://t.co/q0Rg33ziFh'],\n",
              " [datetime.datetime(2022, 10, 6, 23, 54, 3, tzinfo=datetime.timezone.utc),\n",
              "  'https://twitter.com/bete_sousa17/status/1578171761434234880',\n",
              "  'bete_sousa17',\n",
              "  '@o_antagonista Idem! 👍\\nVotei na SimoneTebet, mas agora será nulo! 😪🇧🇷'],\n",
              " [datetime.datetime(2022, 10, 6, 23, 53, 49, tzinfo=datetime.timezone.utc),\n",
              "  'https://twitter.com/alefariainvest/status/1578171700520185857',\n",
              "  'alefariainvest',\n",
              "  '@simonetebetbr @LulaOficial Você é só mais uma fantoche do teatro cômico que acham que enganam os brasileiros! Não somos mais massa de manobra e não pense que você será esquecida por que não será, apoiando o que é devasto e mau para o povo brasileiro, você será lembrada nas próximas eleições !!!'],\n",
              " [datetime.datetime(2022, 10, 6, 23, 53, 47, tzinfo=datetime.timezone.utc),\n",
              "  'https://twitter.com/AntonioLcio4/status/1578171693356679169',\n",
              "  'AntonioLcio4',\n",
              "  '@simonetebetbr Não traía seu eleitor, não vote num político corrupto, condenado, arrogante, prepotente, manipular, e que o pobre pra ele é uma massa de manobra. Vejas os vídeos dele qd se refere aos pobres. Bolsonaro fez e está fazendo mais que 14 anos de governo petista.'],\n",
              " [datetime.datetime(2022, 10, 6, 23, 53, 33, tzinfo=datetime.timezone.utc),\n",
              "  'https://twitter.com/furtaosso/status/1578171633717551105',\n",
              "  'furtaosso',\n",
              "  'simone tebet eh a prova que se branco faz o minimo a esquerda jovem branca ja fica babando'],\n",
              " [datetime.datetime(2022, 10, 6, 23, 53, 18, tzinfo=datetime.timezone.utc),\n",
              "  'https://twitter.com/_Vitorcm_/status/1578171573692866560',\n",
              "  '_Vitorcm_',\n",
              "  '@Andreia08202151 @ThiagoAndradeC8 @valrioss @bferrari @simonetebetbr Não entendi qual foi o deserespeito, foi chamar de stepe?\\n\\nJá foi reclamar com o Lula tbm?\\n\\nhttps://t.co/pahXsmNH0G'],\n",
              " [datetime.datetime(2022, 10, 6, 23, 53, 18, tzinfo=datetime.timezone.utc),\n",
              "  'https://twitter.com/SALETE28877180/status/1578171570593452033',\n",
              "  'SALETE28877180',\n",
              "  '@simonetebetbr @LulaOficial Estou contigo.  Meu voto será por protesto e não por ideologia.'],\n",
              " [datetime.datetime(2022, 10, 6, 23, 53, 14, tzinfo=datetime.timezone.utc),\n",
              "  'https://twitter.com/OsmarBarbozza/status/1578171554504245248',\n",
              "  'OsmarBarbozza',\n",
              "  'Empresários e executivos apoiadores de Tebet vão votar em Lula. Pedro Passos, da Natura; o executivo João Nogueira Batista; Andrea Calabi, ex-presidente do Banco do Brasil, e Philippe Reichstul, ex-presidente da Petrobras afirmam que vão se alinhar a Simone Tebet (Valor) https://t.co/t06xfI30J1'],\n",
              " [datetime.datetime(2022, 10, 6, 23, 53, 11, tzinfo=datetime.timezone.utc),\n",
              "  'https://twitter.com/lima_diger/status/1578171542835408896',\n",
              "  'lima_diger',\n",
              "  '@patricia_txra @JanjaLula @simonetebetbr Eu tbm❤️🇧🇷'],\n",
              " [datetime.datetime(2022, 10, 6, 23, 53, 5, tzinfo=datetime.timezone.utc),\n",
              "  'https://twitter.com/sergio_muenala/status/1578171519376637952',\n",
              "  'sergio_muenala',\n",
              "  '@PampillonSamira @Datoworld Pues es igual o peor  la encuesta Data poder muestra un escenario de casi empate técnico  52% a 48% apesar de que el 90% de los votantes de Simone Tebet van hacia Lula'],\n",
              " [datetime.datetime(2022, 10, 6, 23, 53, 2, tzinfo=datetime.timezone.utc),\n",
              "  'https://twitter.com/BlogdoNoblat/status/1578171505170579461',\n",
              "  'BlogdoNoblat',\n",
              "  '[Assim ele trata as mulheres] - \\nBolsonaro desdenha do apoio de Simone Tebet a Lula: \"Não sei quem é\". (Valor)'],\n",
              " [datetime.datetime(2022, 10, 6, 23, 52, 56, tzinfo=datetime.timezone.utc),\n",
              "  'https://twitter.com/EdnaCuoco/status/1578171481531777024',\n",
              "  'EdnaCuoco',\n",
              "  '@SiilMooraes @pbergamini @UnknownRafa02 @reporterenato O orçamento secreto foi aprovado pelo congresso e é responsabilidade dos senadores, pergunte para a @simonetebetbr O q ela vez com a verba dela.'],\n",
              " [datetime.datetime(2022, 10, 6, 23, 52, 56, tzinfo=datetime.timezone.utc),\n",
              "  'https://twitter.com/Danielbrazil01/status/1578171477979172864',\n",
              "  'Danielbrazil01',\n",
              "  '@simonetebetbr MINISTRA JÁ.  \\n#SimoneTebet #LulaPresidente1️⃣3️⃣'],\n",
              " [datetime.datetime(2022, 10, 6, 23, 52, 54, tzinfo=datetime.timezone.utc),\n",
              "  'https://twitter.com/Roberto_boblop/status/1578171470790144000',\n",
              "  'Roberto_boblop',\n",
              "  '@simonetebetbr Vc nunca nos enganou; teve votos de desavisados que acreditaram em suas falácias, desde aquela célebre frase na CPI do circo que vc se prestou aquele horror, deixando claro que protege a corrupção e por isso não surpreendeu. Agora sim está junto à laia que Vc pertence. https://t.co/eIXayRpkyb'],\n",
              " [datetime.datetime(2022, 10, 6, 23, 52, 47, tzinfo=datetime.timezone.utc),\n",
              "  'https://twitter.com/airtonsilveira7/status/1578171441614307328',\n",
              "  'airtonsilveira7',\n",
              "  '@simonetebetbr @MoraesPT13 Meu voto vai ser do Lula agora com mais amor ainda vamos vamos trabalhar mais é 13 é Lula.'],\n",
              " [datetime.datetime(2022, 10, 6, 23, 52, 46, tzinfo=datetime.timezone.utc),\n",
              "  'https://twitter.com/guinody/status/1578171438997024768',\n",
              "  'guinody',\n",
              "  'Tá faltando voto aí?\\nVai cobrar do eleitor da Simone Tebet 😊'],\n",
              " [datetime.datetime(2022, 10, 6, 23, 52, 46, tzinfo=datetime.timezone.utc),\n",
              "  'https://twitter.com/YukawaSussumu/status/1578171438342803456',\n",
              "  'YukawaSussumu',\n",
              "  '@simonetebetbr @LulaOficial O MDB sempre foi um partido de aluguel. Renam, Sergio Machado, Requião, Tebet sentirão a porrada no dia 30 de outubro.'],\n",
              " [datetime.datetime(2022, 10, 6, 23, 52, 36, tzinfo=datetime.timezone.utc),\n",
              "  'https://twitter.com/MolonEmerson/status/1578171394919055360',\n",
              "  'MolonEmerson',\n",
              "  '@simonetebetbr @LulaOficial Ah sim! Qual ministério negociou com o larápio para dar seu apoio?'],\n",
              " [datetime.datetime(2022, 10, 6, 23, 52, 34, tzinfo=datetime.timezone.utc),\n",
              "  'https://twitter.com/LiliaFeBSB/status/1578171387457445888',\n",
              "  'LiliaFeBSB',\n",
              "  '@GLAUBERGCO @augustodefranco @simonetebetbr Não. Mas como ela não tem cargo na direção do partido, nem mandato, é mais difícil para ela, pessoalmente, organizar uma oposição. Ela pode ajudar a fomentar, mas terá menos força.'],\n",
              " [datetime.datetime(2022, 10, 6, 23, 52, 29, tzinfo=datetime.timezone.utc),\n",
              "  'https://twitter.com/Emosglobina/status/1578171368784265216',\n",
              "  'Emosglobina',\n",
              "  'Não aguento, não aguento a galera falando nem da Simone Tebet'],\n",
              " [datetime.datetime(2022, 10, 6, 23, 52, 29, tzinfo=datetime.timezone.utc),\n",
              "  'https://twitter.com/NiltonC76472742/status/1578171367525998593',\n",
              "  'NiltonC76472742',\n",
              "  '@simonetebetbr Vc não tem caráter mesmo.'],\n",
              " [datetime.datetime(2022, 10, 6, 23, 52, 28, tzinfo=datetime.timezone.utc),\n",
              "  'https://twitter.com/BastardaInglri1/status/1578171362216218624',\n",
              "  'BastardaInglri1',\n",
              "  '@simonetebetbr @LulaOficial Parabéns, foi a melhor escolha.'],\n",
              " [datetime.datetime(2022, 10, 6, 23, 52, 20, tzinfo=datetime.timezone.utc),\n",
              "  'https://twitter.com/AndreteleSUR/status/1578171329752182784',\n",
              "  'AndreteleSUR',\n",
              "  'Lula da Silva cuenta con el apoyo de 15 de los 32 partidos brasileños, entre ellos PDT, Cidadania, PCB, PSTU, que no estaban con el petista en 1era vuelta. Los excandidatos Simone Tebet y Ciro Gomes, tercera y cuatro en las presidenciales, también manifestaron apoyo a Lula. https://t.co/i3Fa2VbjUo']]"
            ]
          },
          "metadata": {},
          "execution_count": 11
        }
      ]
    },
    {
      "cell_type": "markdown",
      "source": [
        "Dataframe: tweets"
      ],
      "metadata": {
        "id": "hNMBAj6Yd3zw"
      }
    },
    {
      "cell_type": "code",
      "source": [
        "tweets_df = pd.DataFrame(tweets_list, columns=['date', 'url','username', 'content' ])\n",
        "tweets_df"
      ],
      "metadata": {
        "id": "ktVL9gw8UxyT",
        "colab": {
          "base_uri": "https://localhost:8080/",
          "height": 641
        },
        "outputId": "ed00fa94-7548-4966-9b3d-29e4955bfe1c"
      },
      "execution_count": 12,
      "outputs": [
        {
          "output_type": "execute_result",
          "data": {
            "text/plain": [
              "                         date  \\\n",
              "0   2022-10-06 23:59:56+00:00   \n",
              "1   2022-10-06 23:59:43+00:00   \n",
              "2   2022-10-06 23:59:39+00:00   \n",
              "3   2022-10-06 23:59:37+00:00   \n",
              "4   2022-10-06 23:59:34+00:00   \n",
              "..                        ...   \n",
              "96  2022-10-06 23:52:34+00:00   \n",
              "97  2022-10-06 23:52:29+00:00   \n",
              "98  2022-10-06 23:52:29+00:00   \n",
              "99  2022-10-06 23:52:28+00:00   \n",
              "100 2022-10-06 23:52:20+00:00   \n",
              "\n",
              "                                                   url         username  \\\n",
              "0    https://twitter.com/amadouaminata/status/15781...    amadouaminata   \n",
              "1    https://twitter.com/MARCELOCALDASP1/status/157...  MARCELOCALDASP1   \n",
              "2    https://twitter.com/marlimpoletto/status/15781...    marlimpoletto   \n",
              "3    https://twitter.com/DaysonCamargoM/status/1578...   DaysonCamargoM   \n",
              "4    https://twitter.com/prjairomaciel/status/15781...    prjairomaciel   \n",
              "..                                                 ...              ...   \n",
              "96   https://twitter.com/LiliaFeBSB/status/15781713...       LiliaFeBSB   \n",
              "97   https://twitter.com/Emosglobina/status/1578171...      Emosglobina   \n",
              "98   https://twitter.com/NiltonC76472742/status/157...  NiltonC76472742   \n",
              "99   https://twitter.com/BastardaInglri1/status/157...  BastardaInglri1   \n",
              "100  https://twitter.com/AndreteleSUR/status/157817...     AndreteleSUR   \n",
              "\n",
              "                                               content  \n",
              "0    @simonetebetbr @LulaOficial Obrigado, Presiden...  \n",
              "1    @JosueLucca @KaykyStt @nahccas @manapg01 @Mate...  \n",
              "2                     @simonetebetbr Vc foi uma piada.  \n",
              "3    @simonetebetbr Quem te viu quem te vê! \\nHoje ...  \n",
              "4    @simonetebetbr É claro fia, tu quer uma tetona...  \n",
              "..                                                 ...  \n",
              "96   @GLAUBERGCO @augustodefranco @simonetebetbr Nã...  \n",
              "97   Não aguento, não aguento a galera falando nem ...  \n",
              "98            @simonetebetbr Vc não tem caráter mesmo.  \n",
              "99   @simonetebetbr @LulaOficial Parabéns, foi a me...  \n",
              "100  Lula da Silva cuenta con el apoyo de 15 de los...  \n",
              "\n",
              "[101 rows x 4 columns]"
            ],
            "text/html": [
              "\n",
              "  <div id=\"df-59e80e85-ec00-45d8-b293-6f274a53e34b\">\n",
              "    <div class=\"colab-df-container\">\n",
              "      <div>\n",
              "<style scoped>\n",
              "    .dataframe tbody tr th:only-of-type {\n",
              "        vertical-align: middle;\n",
              "    }\n",
              "\n",
              "    .dataframe tbody tr th {\n",
              "        vertical-align: top;\n",
              "    }\n",
              "\n",
              "    .dataframe thead th {\n",
              "        text-align: right;\n",
              "    }\n",
              "</style>\n",
              "<table border=\"1\" class=\"dataframe\">\n",
              "  <thead>\n",
              "    <tr style=\"text-align: right;\">\n",
              "      <th></th>\n",
              "      <th>date</th>\n",
              "      <th>url</th>\n",
              "      <th>username</th>\n",
              "      <th>content</th>\n",
              "    </tr>\n",
              "  </thead>\n",
              "  <tbody>\n",
              "    <tr>\n",
              "      <th>0</th>\n",
              "      <td>2022-10-06 23:59:56+00:00</td>\n",
              "      <td>https://twitter.com/amadouaminata/status/15781...</td>\n",
              "      <td>amadouaminata</td>\n",
              "      <td>@simonetebetbr @LulaOficial Obrigado, Presiden...</td>\n",
              "    </tr>\n",
              "    <tr>\n",
              "      <th>1</th>\n",
              "      <td>2022-10-06 23:59:43+00:00</td>\n",
              "      <td>https://twitter.com/MARCELOCALDASP1/status/157...</td>\n",
              "      <td>MARCELOCALDASP1</td>\n",
              "      <td>@JosueLucca @KaykyStt @nahccas @manapg01 @Mate...</td>\n",
              "    </tr>\n",
              "    <tr>\n",
              "      <th>2</th>\n",
              "      <td>2022-10-06 23:59:39+00:00</td>\n",
              "      <td>https://twitter.com/marlimpoletto/status/15781...</td>\n",
              "      <td>marlimpoletto</td>\n",
              "      <td>@simonetebetbr Vc foi uma piada.</td>\n",
              "    </tr>\n",
              "    <tr>\n",
              "      <th>3</th>\n",
              "      <td>2022-10-06 23:59:37+00:00</td>\n",
              "      <td>https://twitter.com/DaysonCamargoM/status/1578...</td>\n",
              "      <td>DaysonCamargoM</td>\n",
              "      <td>@simonetebetbr Quem te viu quem te vê! \\nHoje ...</td>\n",
              "    </tr>\n",
              "    <tr>\n",
              "      <th>4</th>\n",
              "      <td>2022-10-06 23:59:34+00:00</td>\n",
              "      <td>https://twitter.com/prjairomaciel/status/15781...</td>\n",
              "      <td>prjairomaciel</td>\n",
              "      <td>@simonetebetbr É claro fia, tu quer uma tetona...</td>\n",
              "    </tr>\n",
              "    <tr>\n",
              "      <th>...</th>\n",
              "      <td>...</td>\n",
              "      <td>...</td>\n",
              "      <td>...</td>\n",
              "      <td>...</td>\n",
              "    </tr>\n",
              "    <tr>\n",
              "      <th>96</th>\n",
              "      <td>2022-10-06 23:52:34+00:00</td>\n",
              "      <td>https://twitter.com/LiliaFeBSB/status/15781713...</td>\n",
              "      <td>LiliaFeBSB</td>\n",
              "      <td>@GLAUBERGCO @augustodefranco @simonetebetbr Nã...</td>\n",
              "    </tr>\n",
              "    <tr>\n",
              "      <th>97</th>\n",
              "      <td>2022-10-06 23:52:29+00:00</td>\n",
              "      <td>https://twitter.com/Emosglobina/status/1578171...</td>\n",
              "      <td>Emosglobina</td>\n",
              "      <td>Não aguento, não aguento a galera falando nem ...</td>\n",
              "    </tr>\n",
              "    <tr>\n",
              "      <th>98</th>\n",
              "      <td>2022-10-06 23:52:29+00:00</td>\n",
              "      <td>https://twitter.com/NiltonC76472742/status/157...</td>\n",
              "      <td>NiltonC76472742</td>\n",
              "      <td>@simonetebetbr Vc não tem caráter mesmo.</td>\n",
              "    </tr>\n",
              "    <tr>\n",
              "      <th>99</th>\n",
              "      <td>2022-10-06 23:52:28+00:00</td>\n",
              "      <td>https://twitter.com/BastardaInglri1/status/157...</td>\n",
              "      <td>BastardaInglri1</td>\n",
              "      <td>@simonetebetbr @LulaOficial Parabéns, foi a me...</td>\n",
              "    </tr>\n",
              "    <tr>\n",
              "      <th>100</th>\n",
              "      <td>2022-10-06 23:52:20+00:00</td>\n",
              "      <td>https://twitter.com/AndreteleSUR/status/157817...</td>\n",
              "      <td>AndreteleSUR</td>\n",
              "      <td>Lula da Silva cuenta con el apoyo de 15 de los...</td>\n",
              "    </tr>\n",
              "  </tbody>\n",
              "</table>\n",
              "<p>101 rows × 4 columns</p>\n",
              "</div>\n",
              "      <button class=\"colab-df-convert\" onclick=\"convertToInteractive('df-59e80e85-ec00-45d8-b293-6f274a53e34b')\"\n",
              "              title=\"Convert this dataframe to an interactive table.\"\n",
              "              style=\"display:none;\">\n",
              "        \n",
              "  <svg xmlns=\"http://www.w3.org/2000/svg\" height=\"24px\"viewBox=\"0 0 24 24\"\n",
              "       width=\"24px\">\n",
              "    <path d=\"M0 0h24v24H0V0z\" fill=\"none\"/>\n",
              "    <path d=\"M18.56 5.44l.94 2.06.94-2.06 2.06-.94-2.06-.94-.94-2.06-.94 2.06-2.06.94zm-11 1L8.5 8.5l.94-2.06 2.06-.94-2.06-.94L8.5 2.5l-.94 2.06-2.06.94zm10 10l.94 2.06.94-2.06 2.06-.94-2.06-.94-.94-2.06-.94 2.06-2.06.94z\"/><path d=\"M17.41 7.96l-1.37-1.37c-.4-.4-.92-.59-1.43-.59-.52 0-1.04.2-1.43.59L10.3 9.45l-7.72 7.72c-.78.78-.78 2.05 0 2.83L4 21.41c.39.39.9.59 1.41.59.51 0 1.02-.2 1.41-.59l7.78-7.78 2.81-2.81c.8-.78.8-2.07 0-2.86zM5.41 20L4 18.59l7.72-7.72 1.47 1.35L5.41 20z\"/>\n",
              "  </svg>\n",
              "      </button>\n",
              "      \n",
              "  <style>\n",
              "    .colab-df-container {\n",
              "      display:flex;\n",
              "      flex-wrap:wrap;\n",
              "      gap: 12px;\n",
              "    }\n",
              "\n",
              "    .colab-df-convert {\n",
              "      background-color: #E8F0FE;\n",
              "      border: none;\n",
              "      border-radius: 50%;\n",
              "      cursor: pointer;\n",
              "      display: none;\n",
              "      fill: #1967D2;\n",
              "      height: 32px;\n",
              "      padding: 0 0 0 0;\n",
              "      width: 32px;\n",
              "    }\n",
              "\n",
              "    .colab-df-convert:hover {\n",
              "      background-color: #E2EBFA;\n",
              "      box-shadow: 0px 1px 2px rgba(60, 64, 67, 0.3), 0px 1px 3px 1px rgba(60, 64, 67, 0.15);\n",
              "      fill: #174EA6;\n",
              "    }\n",
              "\n",
              "    [theme=dark] .colab-df-convert {\n",
              "      background-color: #3B4455;\n",
              "      fill: #D2E3FC;\n",
              "    }\n",
              "\n",
              "    [theme=dark] .colab-df-convert:hover {\n",
              "      background-color: #434B5C;\n",
              "      box-shadow: 0px 1px 3px 1px rgba(0, 0, 0, 0.15);\n",
              "      filter: drop-shadow(0px 1px 2px rgba(0, 0, 0, 0.3));\n",
              "      fill: #FFFFFF;\n",
              "    }\n",
              "  </style>\n",
              "\n",
              "      <script>\n",
              "        const buttonEl =\n",
              "          document.querySelector('#df-59e80e85-ec00-45d8-b293-6f274a53e34b button.colab-df-convert');\n",
              "        buttonEl.style.display =\n",
              "          google.colab.kernel.accessAllowed ? 'block' : 'none';\n",
              "\n",
              "        async function convertToInteractive(key) {\n",
              "          const element = document.querySelector('#df-59e80e85-ec00-45d8-b293-6f274a53e34b');\n",
              "          const dataTable =\n",
              "            await google.colab.kernel.invokeFunction('convertToInteractive',\n",
              "                                                     [key], {});\n",
              "          if (!dataTable) return;\n",
              "\n",
              "          const docLinkHtml = 'Like what you see? Visit the ' +\n",
              "            '<a target=\"_blank\" href=https://colab.research.google.com/notebooks/data_table.ipynb>data table notebook</a>'\n",
              "            + ' to learn more about interactive tables.';\n",
              "          element.innerHTML = '';\n",
              "          dataTable['output_type'] = 'display_data';\n",
              "          await google.colab.output.renderOutput(dataTable, element);\n",
              "          const docLink = document.createElement('div');\n",
              "          docLink.innerHTML = docLinkHtml;\n",
              "          element.appendChild(docLink);\n",
              "        }\n",
              "      </script>\n",
              "    </div>\n",
              "  </div>\n",
              "  "
            ]
          },
          "metadata": {},
          "execution_count": 12
        }
      ]
    },
    {
      "cell_type": "markdown",
      "source": [
        "Podemos salvar o dataframe tweets num arquivo `.csv`"
      ],
      "metadata": {
        "id": "Zhn6e_j4fHdk"
      }
    },
    {
      "cell_type": "code",
      "source": [
        "# tweets_df.to_csv()"
      ],
      "metadata": {
        "id": "RKQvKddRUx04"
      },
      "execution_count": 13,
      "outputs": []
    },
    {
      "cell_type": "markdown",
      "source": [
        "# 3. Carregando o modelo pré treinado da língua portugesa (Spacy)\n",
        "\n",
        "O [Spacy](https://spacy.io/models) já nos dá dezenas de modelos pré treinados de várias línguas. Podemos carregar um modelo específico (português, por exemplo) como uma função e vamos usar essa função para processar os tweets extraídos"
      ],
      "metadata": {
        "id": "l-0XXrBBjtNO"
      }
    },
    {
      "cell_type": "code",
      "source": [
        "# Carregamos um modelo executando a função spacy.load(\"nome_do_model\")\n",
        "pt_model = spacy.load(\"pt_core_news_lg\")\n",
        "\n",
        "# Vamos carregar também um modelo da língua inglêsa\n",
        "en_model = spacy.load(\"en_core_web_trf\")\n",
        "\n",
        "pt_model"
      ],
      "metadata": {
        "colab": {
          "base_uri": "https://localhost:8080/"
        },
        "id": "_ZT9418MiZEL",
        "outputId": "eff60e45-7dfe-4791-8bae-d105455b5c68"
      },
      "execution_count": 14,
      "outputs": [
        {
          "output_type": "execute_result",
          "data": {
            "text/plain": [
              "<spacy.lang.pt.Portuguese at 0x7f07de2fb5d0>"
            ]
          },
          "metadata": {},
          "execution_count": 14
        }
      ]
    },
    {
      "cell_type": "code",
      "source": [
        "en_model"
      ],
      "metadata": {
        "colab": {
          "base_uri": "https://localhost:8080/"
        },
        "id": "gGJ0ytdwQ8Sx",
        "outputId": "1761502a-5df5-46c6-d35d-fde27c1d93f3"
      },
      "execution_count": 15,
      "outputs": [
        {
          "output_type": "execute_result",
          "data": {
            "text/plain": [
              "<spacy.lang.en.English at 0x7f07dbb19a10>"
            ]
          },
          "metadata": {},
          "execution_count": 15
        }
      ]
    },
    {
      "cell_type": "markdown",
      "source": [
        "## 3.1 Introdução ao Spacy (Doc e Token)"
      ],
      "metadata": {
        "id": "52kCvzbxhnAa"
      }
    },
    {
      "cell_type": "code",
      "source": [
        "# vamos processar o conteúdo do primeiro tweet e criar um objeto chamado Documento (Doc)\n",
        "doc = pt_model(tweets_df[\"content\"][0])\n",
        "\n",
        "# veja que o documento parece com uma string, mas é uma lista de tokens\n",
        "doc"
      ],
      "metadata": {
        "colab": {
          "base_uri": "https://localhost:8080/"
        },
        "id": "GqpL7dQeQ-wm",
        "outputId": "e5e24236-1329-43ad-cccf-f71032881909"
      },
      "execution_count": 16,
      "outputs": [
        {
          "output_type": "execute_result",
          "data": {
            "text/plain": [
              "@simonetebetbr @LulaOficial Obrigado, Presidente Simone. O Brasil precisa de pessoas como a Senhora para tornar este pais, pais de todo o mundo. Um Pais rico como o Brasil, minha segunda Patria, não pode ter tantas pessoas pobres e miseraveis."
            ]
          },
          "metadata": {},
          "execution_count": 16
        }
      ]
    },
    {
      "cell_type": "markdown",
      "source": [
        "O [Documento](https://spacy.io/api/doc) é um conceito chave para o Spacy. Recomento ler a documentação"
      ],
      "metadata": {
        "id": "f5OO6n_Igh4l"
      }
    },
    {
      "cell_type": "code",
      "source": [
        "type(doc)"
      ],
      "metadata": {
        "colab": {
          "base_uri": "https://localhost:8080/"
        },
        "id": "cB2_yiJfRL5K",
        "outputId": "b39a6e9e-9adb-4cc7-8826-1c7ce89d9727"
      },
      "execution_count": 17,
      "outputs": [
        {
          "output_type": "execute_result",
          "data": {
            "text/plain": [
              "spacy.tokens.doc.Doc"
            ]
          },
          "metadata": {},
          "execution_count": 17
        }
      ]
    },
    {
      "cell_type": "markdown",
      "source": [
        "O [Token](https://spacy.io/api/token) é o conceito central do Spacy. E no token que vamos encontrar todas a anotações linguísticas feitas pelos modelo pré treinado que utilizamos para processar o texto do tweet"
      ],
      "metadata": {
        "id": "AK-11X1vg4bf"
      }
    },
    {
      "cell_type": "code",
      "source": [
        "# podemos iterar pelos token de um doc\n",
        "for token in doc:\n",
        "  print(f\"Token: {token}\")\n",
        "\n",
        "  # o token tem vários atributos que correspondem às lebels atribuídas pelo modelo\n",
        "  # um deles é o \"pos_\" que representa a classe da palavra\n",
        "  print(f\"  POS: {token.pos_}\\n\")"
      ],
      "metadata": {
        "id": "kKxiB1ABRSR2",
        "colab": {
          "base_uri": "https://localhost:8080/"
        },
        "outputId": "66fe56f9-f629-4479-f876-f6917f44008e"
      },
      "execution_count": 18,
      "outputs": [
        {
          "output_type": "stream",
          "name": "stdout",
          "text": [
            "Token: @simonetebetbr\n",
            "  POS: NOUN\n",
            "\n",
            "Token: @LulaOficial\n",
            "  POS: ADJ\n",
            "\n",
            "Token: Obrigado\n",
            "  POS: VERB\n",
            "\n",
            "Token: ,\n",
            "  POS: PUNCT\n",
            "\n",
            "Token: Presidente\n",
            "  POS: NOUN\n",
            "\n",
            "Token: Simone\n",
            "  POS: PROPN\n",
            "\n",
            "Token: .\n",
            "  POS: PUNCT\n",
            "\n",
            "Token: O\n",
            "  POS: DET\n",
            "\n",
            "Token: Brasil\n",
            "  POS: PROPN\n",
            "\n",
            "Token: precisa\n",
            "  POS: VERB\n",
            "\n",
            "Token: de\n",
            "  POS: ADP\n",
            "\n",
            "Token: pessoas\n",
            "  POS: NOUN\n",
            "\n",
            "Token: como\n",
            "  POS: ADP\n",
            "\n",
            "Token: a\n",
            "  POS: DET\n",
            "\n",
            "Token: Senhora\n",
            "  POS: PROPN\n",
            "\n",
            "Token: para\n",
            "  POS: SCONJ\n",
            "\n",
            "Token: tornar\n",
            "  POS: VERB\n",
            "\n",
            "Token: este\n",
            "  POS: DET\n",
            "\n",
            "Token: pais\n",
            "  POS: NOUN\n",
            "\n",
            "Token: ,\n",
            "  POS: PUNCT\n",
            "\n",
            "Token: pais\n",
            "  POS: NOUN\n",
            "\n",
            "Token: de\n",
            "  POS: ADP\n",
            "\n",
            "Token: todo\n",
            "  POS: DET\n",
            "\n",
            "Token: o\n",
            "  POS: DET\n",
            "\n",
            "Token: mundo\n",
            "  POS: NOUN\n",
            "\n",
            "Token: .\n",
            "  POS: PUNCT\n",
            "\n",
            "Token: Um\n",
            "  POS: DET\n",
            "\n",
            "Token: Pais\n",
            "  POS: PROPN\n",
            "\n",
            "Token: rico\n",
            "  POS: ADJ\n",
            "\n",
            "Token: como\n",
            "  POS: ADP\n",
            "\n",
            "Token: o\n",
            "  POS: DET\n",
            "\n",
            "Token: Brasil\n",
            "  POS: PROPN\n",
            "\n",
            "Token: ,\n",
            "  POS: PUNCT\n",
            "\n",
            "Token: minha\n",
            "  POS: DET\n",
            "\n",
            "Token: segunda\n",
            "  POS: ADJ\n",
            "\n",
            "Token: Patria\n",
            "  POS: PROPN\n",
            "\n",
            "Token: ,\n",
            "  POS: PUNCT\n",
            "\n",
            "Token: não\n",
            "  POS: ADV\n",
            "\n",
            "Token: pode\n",
            "  POS: VERB\n",
            "\n",
            "Token: ter\n",
            "  POS: VERB\n",
            "\n",
            "Token: tantas\n",
            "  POS: DET\n",
            "\n",
            "Token: pessoas\n",
            "  POS: NOUN\n",
            "\n",
            "Token: pobres\n",
            "  POS: ADJ\n",
            "\n",
            "Token: e\n",
            "  POS: CCONJ\n",
            "\n",
            "Token: miseraveis\n",
            "  POS: ADJ\n",
            "\n",
            "Token: .\n",
            "  POS: PUNCT\n",
            "\n"
          ]
        }
      ]
    },
    {
      "cell_type": "code",
      "source": [
        "# vemos que o segundo token é um adverb (abvérbio)\n",
        "doc[1].pos_"
      ],
      "metadata": {
        "colab": {
          "base_uri": "https://localhost:8080/",
          "height": 36
        },
        "id": "jBXdvarORVUh",
        "outputId": "e2ad6de3-401a-4584-b4cf-4624eb88a479"
      },
      "execution_count": 19,
      "outputs": [
        {
          "output_type": "execute_result",
          "data": {
            "text/plain": [
              "'ADJ'"
            ],
            "application/vnd.google.colaboratory.intrinsic+json": {
              "type": "string"
            }
          },
          "metadata": {},
          "execution_count": 19
        }
      ]
    },
    {
      "cell_type": "markdown",
      "source": [
        "o Spacy utiliza [um glossário](https://github.com/explosion/spaCy/blob/master/spacy/glossary.py) com as explicações para as abreviações utilizadas pela biblioteca"
      ],
      "metadata": {
        "id": "Fz6l0_gbjH9v"
      }
    },
    {
      "cell_type": "code",
      "source": [
        "# podemos acessar o glossário a partir da função spacy.explain(sigla)\n",
        "spacy.explain(doc[1].pos_)"
      ],
      "metadata": {
        "colab": {
          "base_uri": "https://localhost:8080/",
          "height": 36
        },
        "id": "XIhiWF-RiNyh",
        "outputId": "f7e8d6dd-9fa5-46d3-aa1d-208ef98ba1da"
      },
      "execution_count": 20,
      "outputs": [
        {
          "output_type": "execute_result",
          "data": {
            "text/plain": [
              "'adjective'"
            ],
            "application/vnd.google.colaboratory.intrinsic+json": {
              "type": "string"
            }
          },
          "metadata": {},
          "execution_count": 20
        }
      ]
    },
    {
      "cell_type": "markdown",
      "source": [
        "# 4. Entidades Nomeadas"
      ],
      "metadata": {
        "id": "FfQCI155xIqf"
      }
    },
    {
      "cell_type": "markdown",
      "source": [
        "O Doc é mais do que uma lista, é uma classe que possui um atributo chamado `ents` que também é uma lista de tokens, mas só aqueles que o modelo \"entende\" como sendo uma [entidade nomeada](https://pt.wikipedia.org/wiki/Reconhecimento_de_entidade_mencionada)."
      ],
      "metadata": {
        "id": "apkxM4nMu7U1"
      }
    },
    {
      "cell_type": "code",
      "source": [
        "# entidades encontradas pelo modelo\n",
        "doc.ents"
      ],
      "metadata": {
        "colab": {
          "base_uri": "https://localhost:8080/"
        },
        "id": "MZ1uXYZ9R1s7",
        "outputId": "030663d4-9012-4c7c-80c4-b709c057aa7f"
      },
      "execution_count": 35,
      "outputs": [
        {
          "output_type": "execute_result",
          "data": {
            "text/plain": [
              "(@simonetebetbr, Brasil, Senhora, Pais, Brasil)"
            ]
          },
          "metadata": {},
          "execution_count": 35
        }
      ]
    },
    {
      "cell_type": "markdown",
      "source": [
        "Uma **entidade nomeada** possui uma label anotada pelo modelo"
      ],
      "metadata": {
        "id": "VWIbQA5WwdTx"
      }
    },
    {
      "cell_type": "code",
      "source": [
        "for ent in doc.ents:\n",
        "  print(f\" text: {ent.text}\")\n",
        "  print(f\"label: {ent.label_}\")"
      ],
      "metadata": {
        "colab": {
          "base_uri": "https://localhost:8080/"
        },
        "id": "GsktvjC6TE6m",
        "outputId": "5a50f30a-b3b6-4ff7-e6dc-b837c7fd483d"
      },
      "execution_count": 39,
      "outputs": [
        {
          "output_type": "stream",
          "name": "stdout",
          "text": [
            " text: @simonetebetbr\n",
            "label: MISC\n",
            " text: Brasil\n",
            "label: LOC\n",
            " text: Senhora\n",
            "label: PER\n",
            " text: Pais\n",
            "label: PER\n",
            " text: Brasil\n",
            "label: LOC\n"
          ]
        }
      ]
    },
    {
      "cell_type": "code",
      "source": [
        "# Named person or family (Nome de pessoa ou família)\n",
        "spacy.explain(\"PER\")"
      ],
      "metadata": {
        "colab": {
          "base_uri": "https://localhost:8080/",
          "height": 36
        },
        "id": "D7YLuoQcwxKE",
        "outputId": "e068b8b9-b51a-40a7-980d-2e5d3bd50e59"
      },
      "execution_count": 23,
      "outputs": [
        {
          "output_type": "execute_result",
          "data": {
            "text/plain": [
              "'Named person or family.'"
            ],
            "application/vnd.google.colaboratory.intrinsic+json": {
              "type": "string"
            }
          },
          "metadata": {},
          "execution_count": 23
        }
      ]
    },
    {
      "cell_type": "markdown",
      "source": [
        "## Entidades encontradas em todos os tweets"
      ],
      "metadata": {
        "id": "e912Ves9xPTU"
      }
    },
    {
      "cell_type": "markdown",
      "source": [
        "Até agora só processamos um tweet, vamos processar todos extraídos para podermos saber quais entidades nomeadas o spacy encontrou\n"
      ],
      "metadata": {
        "id": "VLHyPIiRxYcL"
      }
    },
    {
      "cell_type": "code",
      "source": [
        "docs = []\n",
        "for tweet in tweets_df[\"content\"]:\n",
        "  docs.append(pt_model(tweet))\n",
        "docs"
      ],
      "metadata": {
        "id": "Hm0-gsufTV87",
        "colab": {
          "base_uri": "https://localhost:8080/"
        },
        "outputId": "35bcb8e5-a8de-4373-dffb-6491feae6086"
      },
      "execution_count": 24,
      "outputs": [
        {
          "output_type": "execute_result",
          "data": {
            "text/plain": [
              "[@simonetebetbr @LulaOficial Obrigado, Presidente Simone. O Brasil precisa de pessoas como a Senhora para tornar este pais, pais de todo o mundo. Um Pais rico como o Brasil, minha segunda Patria, não pode ter tantas pessoas pobres e miseraveis.,\n",
              " @JosueLucca @KaykyStt @nahccas @manapg01 @MateusKiller22 @andrefnm @simonetebetbr Calma amiguinho, temos várias opções tais como Arminio Fraga, Meirelles, pérsio árida etc....não precisa ficar de mi-mi-mi de Venezuela e Argentina.....percebe-se que caiu na lavagem cerebral bolsonarista (tu é evangélico?),\n",
              " @simonetebetbr Vc foi uma piada.,\n",
              " @simonetebetbr Quem te viu quem te vê! \n",
              " Hoje vc me lembra 2 patinhos na Lagoa...22,\n",
              " @simonetebetbr É claro fia, tu quer uma tetona pra mamar também.,\n",
              " @simonetebetbr @LulaOficial Simone, em palavras simples, vc é fod*! As pessoas não entenderam que a questão não é colocar o Lula. A questão toda é #ForaBolsonaro!,\n",
              " @felipeneto Agora sustentável, capitalismo e Simone Tebet não combinam mas entendi seu ponto,\n",
              " @Jos16941185 @simonetebetbr @LulaOficial Confiei meu voto nela e confio no posicionamento dela no segundo turno. Lula agora e Tebet em 2026,\n",
              " @simonetebetbr Você é tão insignificante que isso não fará diferença alguma .,\n",
              " Que bom!!! 👏🏼@simonetebetbr @maragabrilli https://t.co/D5BVImTWSa,\n",
              " @cirogomes , @DeputadoFederal e @simonetebetbr .\n",
              " Os cheiradores de cú !. https://t.co/GdVii0cPEN,\n",
              " @simonetebetbr Eu tbm não. Já que é obrigatório, bora botar presidiário no seu devido lugar:  o xilindró.,\n",
              " @JeanPie42823671 @Ticostacruz Isso! Ciro se jogou no Limbo por esforço próprio. Escolheu atacar Lula e fazer tabelinhas com Bolsonaro. Em 2026, Simone Tebet terá meu apoio.,\n",
              " @o_antagonista @simonetebetbr @LulaOficial Me libera também, votei em você, mas agora será nulo. 😪🇧🇷,\n",
              " @LulaOficial @simonetebetbr Estamos juntes,\n",
              " @fabriciohorta @simonetebetbr @SorayaThronicke @cirogomes @LulaOficial @Nilsonhandebol Sdv,\n",
              " @simonetebetbr Obrigado https://t.co/Jq8qXeS8dy,\n",
              " @simonetebetbr @LulaOficial Eu quero morar nessa propaganda do PT que você descreve, e, assim, vou ser feliz para sempre. Obrigado, Sterp. Agora estou você sair gritando “lula livre”. Por que a demora?,\n",
              " @bferrari @cirogomes @simonetebetbr Valeu, amigão, obrigado a me ajudar na decisão. Vou de nulo com força nesse 2° turno👊👊👊\n",
              " Tenho muito orgulho de ser esse 3%,\n",
              " @GiseliVergete @simonetebetbr O véu de boazinha terminou de cair,\n",
              " @simonetebetbr Pela democracia nada, pela sua cara de pau e falta de carater.,\n",
              " @CamilaPitanga @simonetebetbr @LulaOficial Não canso de ouvir e me emocionar com esse discurso. Ele já é histórico. Resume muito bem o momento.,\n",
              " @simonetebetbr O que fez vc mudar de opinião tão rápido assim?? Já podemos imaginar... https://t.co/SZG27dSZxr,\n",
              " @maragabrilli @simonetebetbr Lixos,\n",
              " @PU2KOM @FHC @simonetebetbr @cirogomes é essa a democracia que vocês irão apoiar? Vocês amam muito o Brasil!!!!,\n",
              " @ClarissaCotrim @leticiaiai Tá faltando voto? Pede pro eleitor da Simone Tebet.,\n",
              " @simonetebetbr @maragabrilli Lixos,\n",
              " @ferdi1916 @ecigle @EstelaVerduc @madruguinharock @mitielis @simonetebetbr Eu acho que você não perdeu alguém especial na pandemia, não tinha dinheiro pra salvar o seu país mais hj ele faz cortes para o orçamento secreto.🥴😴,\n",
              " @jairbolsonaro Como disse a @simonetebetbr : mente tanto que acredita na própria mentira.,\n",
              " @dudubrasil28 @SamPancher Eu votei na Simone Tebet, meu querido. Não voto em nenhum dos dois meliantes.,\n",
              " @simonetebetbr @LulaOficial Vc vai fazer igual ao Bone, vai inocentar o criminoso?,\n",
              " Vou deixar aqui a íntegra do vídeo da Simone Tebet sobre o ORÇAMENTO SECRETO onde o pessoal rouba $$ de NF inteira, não é porcentagem não. https://t.co/XeY8tLg9xF,\n",
              " @valentimbee @MendesArislan @simonetebetbr @LulaOficial O governo Lula onde morriam 60 mil pessoas assassinadas todos os anos, viviam com um bolsa família que não dava para nada, filas de hospitais gigantescas, inclusive com várias reportagens de jornais da época mostrando essas pessoas morrendo nas filas e corrupção generalizada.,\n",
              " @simonetebetbr https://t.co/G9tiWAmabG,\n",
              " Simone tebet ou estepe fazendo defesa dos governos do nordeste do consórcio do nordeste https://t.co/Iul481ZkOC,\n",
              " @o_antagonista @simonetebetbr Cínica!,\n",
              " @simonetebetbr Quer enganar quem? Se tivesse dignidade não apoiaria um ladrão,corrupto, traidor da pátria, mas o q esperar de vcs políticos né  estão sempre querendo algumas vantagens e valores em troca de algo. Vc se queimou muito se aliando com essa quadrilha,\n",
              " @GabrielBrotto1 @MFreireB_ @simonetebetbr Essas patriotas do vídeo não irão votar no Lula, e a exemplo delas certamente boa parte do eleitorado de Simone Tebet, irá votar em Bolsonaro!🇧🇷🇧🇷,\n",
              " Assim disse SIMONE TEBET: https://t.co/HwWlb8LIro,\n",
              " Juntos por uma vitória de @LulaOficial bonita, limpa , democrática e ampliada.@fcjuliaduailibi @leandrograss @heliomdoyle \n",
              " @simonetebetbr @cirogomes @FHC @persio_e @edmarbacha https://t.co/omaSIpRZ1V,\n",
              " @claudioedantas Que ingênua a @simonetebetbr . Bobinha!!,\n",
              " @eswoj @simonetebetbr \"Ministério!\" Foi essa a palavra mágica que fez ela de defensora da anticorrupção para defensora do ladrão!,\n",
              " @CamilaPitanga @simonetebetbr @LulaOficial Vai lá na família da atriz que morreu com tiro na cabeça faz o l pra família dela, a esquerda petista está defendendo os bandidos,\n",
              " @LulaOficial @simonetebetbr https://t.co/vG9wMJUWHz,\n",
              " @simonetebetbr @LulaOficial Bolsonaro reeleito 22,\n",
              " A memória do povo não é Maia curta minha senhora @simonetebetbr https://t.co/TlGZtLRfsj,\n",
              " @simonetebetbr Esse posicionamento não nos representa e não representa o MDB! https://t.co/zgvOHYAFQu,\n",
              " @leticiaspiller @simonetebetbr @crisvector Vc acredita em Papai Noel também? Kkkk,\n",
              " @simonetebetbr A palavra democracia vinda da boca de esquerdopatas e de quem se associa ao mesmo é válida até o término das eleições.,\n",
              " 🚨🚨🚨CORRUPÇÃO🚨🚨🚨\n",
              " \n",
              " SIMONE TEBET DENÚNCIA ORÇAMENTO SECRETO COMO FUNCIONA NO BRASIL 😨😨\n",
              " \n",
              " O Bandido do Chefe do Paulo Guedes deve mesmo odiar o Brasil.\n",
              " \n",
              " O Criador do BOLSOLÃO dentro da Igreja é Santo e Fora é um Mentiroso.\n",
              " \n",
              " #ForaBolsonaro https://t.co/1Vfw3HuTaj,\n",
              " @simonetebetbr leva DNA de bandida, explico. Estes políticos que são descendentes de políticos tem o DNA de político e já aprenderam desde crianças a ser safados. Esta atitude desta canalha não surpreende https://t.co/JY2h59H10P,\n",
              " @simonetebetbr @simonetebetbr cúmplice de ladrão #BolsonaroReeleitonoSegundoTurno,\n",
              " @simonetebetbr Agora vc volta a seus pares...,\n",
              " @simonetebetbr @Haddad_Fernando @LulaOficial Simone eu não entendo vc ficou desde o início falando do molusco e agora vai apoia lo nossa que decepção .,\n",
              " @simonetebetbr Mas vai votar e apoiar um condenado que acabou com o Brasil. Grande exemplo a senhora vai dar.,\n",
              " @rmotta2 Simone Tebet é uma oportunista que outrora foi tão relevante no impeachment de Dilma, e hoje se mostra de joelhos para o sistema. Apoiar Lula é não ter freios éticos.,\n",
              " @betobaggio10 @WildMentalist @oclebergrechi @SeriesBrasil @LulaOficial @simonetebetbr @ptsaopaulosp @ptbrasil oxe? kkkkkkkkkkkkkkkk agora pronto,\n",
              " @felipeadeamor @madruguinharock @mitielis @simonetebetbr Se pauta religiosa ganhasse eleição, haddad e davila em missa, estariam na presidencia hoje. Mas a mentira não cola assim do dia pra noite,\n",
              " @crisvector @simonetebetbr @LulaOficial Galera vota com o cu e n com a cabeça é foda kkkk,\n",
              " GRATIDÃO SIMONE TEBET https://t.co/uKyExHXavs,\n",
              " @simonetebetbr Safada sem vergonha\n",
              " Pelas pessoas que morreram do vírus chinês cadê os $50.000.000,00 que você não quis investigar. Mentirosa,\n",
              " @simonetebetbr Que vergonha!\n",
              " Farinha do.mesmo saco! https://t.co/1C53sip35E,\n",
              " @teagoliveira @simonetebetbr @naoencheopai,\n",
              " @lulaverso @simonetebetbr Até ontem o cara era ladrão... Hj deposita voto de confiança,\n",
              " @antonioprata @simonetebetbr Maravilhosa, ganhou meu voto pra 2026 🥰🥰🥰,\n",
              " @senadorhumberto @LulaOficial @cirogomes @simonetebetbr Frente democrática kkkkkkkkkkkkkkkkkkkkkkkkkk...chamem o ortega.,\n",
              " @wLuizz_ simone tebet po tenho ctz que ela maceta a soraya,\n",
              " @rafaelmprestes @simonetebetbr @LulaOficial Ela sempre disse que estaria do lado da democracia, e que escolheria um lado caso não chegasse ao segundo turno, portanto, meu caro, não seja tendencioso.,\n",
              " Como uma mulher pode votar num \"pulha\" desses???\n",
              " \n",
              " Bolsonaro desdenha do apoio de Simone Tebet a Lula: \"Não sei quem é\" | Eleições 2022 | Valor Econômico https://t.co/c85X1l6SUI,\n",
              " @WildMentalist @oclebergrechi @ryejifeels @SeriesBrasil @LulaOficial @simonetebetbr @ptsaopaulosp @ptbrasil Primeiro*,\n",
              " @simonetebetbr Ok. Não anulará. Voltará no ladrão. Sua máscara caiu, querida. Vai @jairbolsonaro . Game Over!,\n",
              " Simone Tebet,  a Estepe do lula defendeu essa turma de governadores consórcio nordeste https://t.co/4zyik4W1CK,\n",
              " @simonetebetbr Traíra vendida pro comunismo. Vergonha q é bom nenhuma.,\n",
              " @BlogdoNoblat @vacinaemascara @simonetebetbr, MUITO OBRIGADO,\n",
              " @simonetebetbr @LulaOficial Seu apoio é por poder, você vendeu a alma pro diabo em troca de poder. Nunca será respeitada, você escolheu o lado da corrupção e do roubo.,\n",
              " No fundo o que eles querem é dinheiro e poder.. E vc ai da turma \"mulher vota em mulher\" se f.u.d.e.u 😂😂😂😂😂 ela ta cagando pra vcs. Ne nao dona @simonetebetbr https://t.co/kh9ialwxAP,\n",
              " @simonetebetbr Vai votar em bandido condenado 🤣🤣🤣🤣🤣🤣🤣,\n",
              " @simonetebetbr @LulaOficial Seja apoio é por outra coisa,\n",
              " @simonetebetbr @LulaOficial https://t.co/q0Rg33ziFh,\n",
              " @o_antagonista Idem! 👍\n",
              " Votei na SimoneTebet, mas agora será nulo! 😪🇧🇷,\n",
              " @simonetebetbr @LulaOficial Você é só mais uma fantoche do teatro cômico que acham que enganam os brasileiros! Não somos mais massa de manobra e não pense que você será esquecida por que não será, apoiando o que é devasto e mau para o povo brasileiro, você será lembrada nas próximas eleições !!!,\n",
              " @simonetebetbr Não traía seu eleitor, não vote num político corrupto, condenado, arrogante, prepotente, manipular, e que o pobre pra ele é uma massa de manobra. Vejas os vídeos dele qd se refere aos pobres. Bolsonaro fez e está fazendo mais que 14 anos de governo petista.,\n",
              " simone tebet eh a prova que se branco faz o minimo a esquerda jovem branca ja fica babando,\n",
              " @Andreia08202151 @ThiagoAndradeC8 @valrioss @bferrari @simonetebetbr Não entendi qual foi o deserespeito, foi chamar de stepe?\n",
              " \n",
              " Já foi reclamar com o Lula tbm?\n",
              " \n",
              " https://t.co/pahXsmNH0G,\n",
              " @simonetebetbr @LulaOficial Estou contigo.  Meu voto será por protesto e não por ideologia.,\n",
              " Empresários e executivos apoiadores de Tebet vão votar em Lula. Pedro Passos, da Natura; o executivo João Nogueira Batista; Andrea Calabi, ex-presidente do Banco do Brasil, e Philippe Reichstul, ex-presidente da Petrobras afirmam que vão se alinhar a Simone Tebet (Valor) https://t.co/t06xfI30J1,\n",
              " @patricia_txra @JanjaLula @simonetebetbr Eu tbm❤️🇧🇷,\n",
              " @PampillonSamira @Datoworld Pues es igual o peor  la encuesta Data poder muestra un escenario de casi empate técnico  52% a 48% apesar de que el 90% de los votantes de Simone Tebet van hacia Lula,\n",
              " [Assim ele trata as mulheres] - \n",
              " Bolsonaro desdenha do apoio de Simone Tebet a Lula: \"Não sei quem é\". (Valor),\n",
              " @SiilMooraes @pbergamini @UnknownRafa02 @reporterenato O orçamento secreto foi aprovado pelo congresso e é responsabilidade dos senadores, pergunte para a @simonetebetbr O q ela vez com a verba dela.,\n",
              " @simonetebetbr MINISTRA JÁ.  \n",
              " #SimoneTebet #LulaPresidente1️⃣3️⃣,\n",
              " @simonetebetbr Vc nunca nos enganou; teve votos de desavisados que acreditaram em suas falácias, desde aquela célebre frase na CPI do circo que vc se prestou aquele horror, deixando claro que protege a corrupção e por isso não surpreendeu. Agora sim está junto à laia que Vc pertence. https://t.co/eIXayRpkyb,\n",
              " @simonetebetbr @MoraesPT13 Meu voto vai ser do Lula agora com mais amor ainda vamos vamos trabalhar mais é 13 é Lula.,\n",
              " Tá faltando voto aí?\n",
              " Vai cobrar do eleitor da Simone Tebet 😊,\n",
              " @simonetebetbr @LulaOficial O MDB sempre foi um partido de aluguel. Renam, Sergio Machado, Requião, Tebet sentirão a porrada no dia 30 de outubro.,\n",
              " @simonetebetbr @LulaOficial Ah sim! Qual ministério negociou com o larápio para dar seu apoio?,\n",
              " @GLAUBERGCO @augustodefranco @simonetebetbr Não. Mas como ela não tem cargo na direção do partido, nem mandato, é mais difícil para ela, pessoalmente, organizar uma oposição. Ela pode ajudar a fomentar, mas terá menos força.,\n",
              " Não aguento, não aguento a galera falando nem da Simone Tebet,\n",
              " @simonetebetbr Vc não tem caráter mesmo.,\n",
              " @simonetebetbr @LulaOficial Parabéns, foi a melhor escolha.,\n",
              " Lula da Silva cuenta con el apoyo de 15 de los 32 partidos brasileños, entre ellos PDT, Cidadania, PCB, PSTU, que no estaban con el petista en 1era vuelta. Los excandidatos Simone Tebet y Ciro Gomes, tercera y cuatro en las presidenciales, también manifestaron apoyo a Lula. https://t.co/i3Fa2VbjUo]"
            ]
          },
          "metadata": {},
          "execution_count": 24
        }
      ]
    },
    {
      "cell_type": "code",
      "source": [
        "type(docs[0])"
      ],
      "metadata": {
        "colab": {
          "base_uri": "https://localhost:8080/"
        },
        "id": "agO1jh9GTxdn",
        "outputId": "da3c3c83-3006-4f5c-9d95-cba8e0214d6d"
      },
      "execution_count": 25,
      "outputs": [
        {
          "output_type": "execute_result",
          "data": {
            "text/plain": [
              "spacy.tokens.doc.Doc"
            ]
          },
          "metadata": {},
          "execution_count": 25
        }
      ]
    },
    {
      "cell_type": "code",
      "source": [
        "docs[1].ents"
      ],
      "metadata": {
        "colab": {
          "base_uri": "https://localhost:8080/"
        },
        "id": "LXbXybNO6G0n",
        "outputId": "160fa820-144d-4e81-f2f5-ffa5e0cd1ed3"
      },
      "execution_count": 26,
      "outputs": [
        {
          "output_type": "execute_result",
          "data": {
            "text/plain": [
              "(@JosueLucca, Arminio Fraga, Venezuela, Argentina)"
            ]
          },
          "metadata": {},
          "execution_count": 26
        }
      ]
    },
    {
      "cell_type": "code",
      "source": [
        "ents = [doc.ents for doc in docs]\n",
        "ents"
      ],
      "metadata": {
        "id": "EmP8FiCNpoAM",
        "colab": {
          "base_uri": "https://localhost:8080/"
        },
        "outputId": "0a451097-fad6-4aaa-fd9f-d2c0488759b3"
      },
      "execution_count": 27,
      "outputs": [
        {
          "output_type": "execute_result",
          "data": {
            "text/plain": [
              "[(@simonetebetbr, Brasil, Senhora, Pais, Brasil),\n",
              " (@JosueLucca, Arminio Fraga, Venezuela, Argentina),\n",
              " (@simonetebetbr,),\n",
              " (@simonetebetbr Quem, Lagoa),\n",
              " (@simonetebetbr,),\n",
              " (@simonetebetbr, vc),\n",
              " (Simone Tebet,),\n",
              " (@Jos16941185 @simonetebetbr, Lula, Tebet),\n",
              " (),\n",
              " (),\n",
              " (@simonetebetbr,),\n",
              " (),\n",
              " (Ciro, Limbo, Lula, Bolsonaro, Simone Tebet),\n",
              " (@o_antagonista @simonetebetbr @LulaOficial, Me),\n",
              " (@simonetebetbr,),\n",
              " (@fabriciohorta @simonetebetbr @SorayaThronicke @cirogomes @LulaOficial,),\n",
              " (@simonetebetbr Obrigado https://t.co/Jq8qXeS8dy,),\n",
              " (@simonetebetbr, PT),\n",
              " (@bferrari @cirogomes @simonetebetbr Valeu,),\n",
              " (),\n",
              " (@simonetebetbr,),\n",
              " (@CamilaPitanga @simonetebetbr,),\n",
              " (@simonetebetbr,),\n",
              " (@simonetebetbr,),\n",
              " (@simonetebetbr @cirogomes, Brasil!!!!),\n",
              " (@ClarissaCotrim @leticiaiai, Simone Tebet),\n",
              " (@simonetebetbr @maragabrilli,),\n",
              " (@madruguinharock @mitielis,),\n",
              " (@jairbolsonaro, @simonetebetbr),\n",
              " (@dudubrasil28 @SamPancher, Simone Tebet),\n",
              " (@simonetebetbr, Vc, Bone),\n",
              " (Simone Tebet, ORÇAMENTO SECRETO),\n",
              " (Lula,),\n",
              " (@simonetebetbr,),\n",
              " (Simone,),\n",
              " (@o_antagonista @simonetebetbr Cínica!,),\n",
              " (@simonetebetbr Quer, Vc),\n",
              " (Lula, Simone Tebet, Bolsonaro),\n",
              " (SIMONE,),\n",
              " (@simonetebetbr @cirogomes @FHC @persio_e @edmarbacha,),\n",
              " (@claudioedantas Que ingênua a, @simonetebetbr),\n",
              " (@simonetebetbr,),\n",
              " (@CamilaPitanga @simonetebetbr,),\n",
              " (@simonetebetbr,),\n",
              " (@simonetebetbr, Bolsonaro),\n",
              " (Maia, @simonetebetbr),\n",
              " (@simonetebetbr, MDB!),\n",
              " (@leticiaspiller @simonetebetbr, Papai Noel),\n",
              " (@simonetebetbr,),\n",
              " (Bandido do Chefe,\n",
              "  Paulo Guedes,\n",
              "  Brasil,\n",
              "  Criador do BOLSOLÃO,\n",
              "  Igreja,\n",
              "  Santo e Fora),\n",
              " (@simonetebetbr,),\n",
              " (@simonetebetbr @simonetebetbr,),\n",
              " (),\n",
              " (@simonetebetbr, Simone),\n",
              " (@simonetebetbr, Brasil),\n",
              " (Simone Tebet, Dilma, Lula),\n",
              " (@betobaggio10, @simonetebetbr @ptsaopaulosp @ptbrasil),\n",
              " (@madruguinharock @mitielis, haddad, davila),\n",
              " (),\n",
              " (GRATIDÃO SIMONE TEBET,),\n",
              " (),\n",
              " (@simonetebetbr Que vergonha!,),\n",
              " (),\n",
              " (@lulaverso @simonetebetbr,),\n",
              " (@antonioprata @simonetebetbr,),\n",
              " (@senadorhumberto @LulaOficial,),\n",
              " (simone tebet po,),\n",
              " (@rafaelmprestes @simonetebetbr,),\n",
              " (Bolsonaro,\n",
              "  Simone Tebet,\n",
              "  Lula,\n",
              "  | Eleições 2022,\n",
              "  Valor Econômico https://t.co/c85X1l6SUI),\n",
              " (@ryejifeels @SeriesBrasil, @simonetebetbr @ptsaopaulosp @ptbrasil Primeiro*),\n",
              " (@simonetebetbr Ok, Vai @jairbolsonaro, Game Over!),\n",
              " (Simone Tebet, Estepe do lula),\n",
              " (),\n",
              " (@vacinaemascara,),\n",
              " (@simonetebetbr,),\n",
              " (f.u.d.e.u, Ne, @simonetebetbr),\n",
              " (@simonetebetbr Vai,),\n",
              " (@simonetebetbr,),\n",
              " (@simonetebetbr,),\n",
              " (@o_antagonista Idem! 👍,),\n",
              " (@simonetebetbr,),\n",
              " (@simonetebetbr, Bolsonaro),\n",
              " (simone tebet,),\n",
              " (@Andreia08202151, Lula tbm?),\n",
              " (@simonetebetbr,),\n",
              " (Tebet,\n",
              "  Lula,\n",
              "  Pedro,\n",
              "  Natura,\n",
              "  João Nogueira Batista,\n",
              "  Andrea Calabi,\n",
              "  Banco do Brasil,\n",
              "  Philippe Reichstul,\n",
              "  Petrobras,\n",
              "  Simone Tebet),\n",
              " (@patricia_txra @JanjaLula @simonetebetbr,),\n",
              " (Pues es, Simone Tebet),\n",
              " (Bolsonaro, Simone Tebet, Lula),\n",
              " (@SiilMooraes, @pbergamini, @UnknownRafa02 @reporterenato, @simonetebetbr),\n",
              " (SimoneTebet #,),\n",
              " (@simonetebetbr, Vc),\n",
              " (@simonetebetbr, @MoraesPT13, Lula, Lula),\n",
              " (Simone Tebet,),\n",
              " (@simonetebetbr, MDB, Sergio Machado, Tebet),\n",
              " (@simonetebetbr, Ah sim!),\n",
              " (@GLAUBERGCO @augustodefranco @simonetebetbr,),\n",
              " (Simone Tebet,),\n",
              " (@simonetebetbr,),\n",
              " (@simonetebetbr,),\n",
              " (Lula da Silva,\n",
              "  Cidadania,\n",
              "  PCB,\n",
              "  PSTU,\n",
              "  Simone Tebet,\n",
              "  también manifestaron apoyo,\n",
              "  Lula)]"
            ]
          },
          "metadata": {},
          "execution_count": 27
        }
      ]
    },
    {
      "cell_type": "markdown",
      "source": [
        "# 5. Wordcloud com entidades nomeadas encontradas pelo Spacy"
      ],
      "metadata": {
        "id": "ysyPo7UVrHDn"
      }
    },
    {
      "cell_type": "code",
      "source": [
        "ents_for_word_cloud = []\n",
        "for ent in ents:\n",
        "  if len(ent):\n",
        "    ents_for_word_cloud = ents_for_word_cloud + list(ent)\n",
        "ents_for_word_cloud = [ent.text for ent in ents_for_word_cloud]\n",
        "ents_for_word_cloud"
      ],
      "metadata": {
        "id": "UkXxDnUWW4i6",
        "colab": {
          "base_uri": "https://localhost:8080/"
        },
        "outputId": "32ec3b04-f49b-42a2-f20e-f0b7118e942a"
      },
      "execution_count": 29,
      "outputs": [
        {
          "output_type": "execute_result",
          "data": {
            "text/plain": [
              "['@simonetebetbr',\n",
              " 'Brasil',\n",
              " 'Senhora',\n",
              " 'Pais',\n",
              " 'Brasil',\n",
              " '@JosueLucca',\n",
              " 'Arminio Fraga',\n",
              " 'Venezuela',\n",
              " 'Argentina',\n",
              " '@simonetebetbr',\n",
              " '@simonetebetbr Quem',\n",
              " 'Lagoa',\n",
              " '@simonetebetbr',\n",
              " '@simonetebetbr',\n",
              " 'vc',\n",
              " 'Simone Tebet',\n",
              " '@Jos16941185 @simonetebetbr',\n",
              " 'Lula',\n",
              " 'Tebet',\n",
              " '@simonetebetbr',\n",
              " 'Ciro',\n",
              " 'Limbo',\n",
              " 'Lula',\n",
              " 'Bolsonaro',\n",
              " 'Simone Tebet',\n",
              " '@o_antagonista @simonetebetbr @LulaOficial',\n",
              " 'Me',\n",
              " '@simonetebetbr',\n",
              " '@fabriciohorta @simonetebetbr @SorayaThronicke @cirogomes @LulaOficial',\n",
              " '@simonetebetbr Obrigado https://t.co/Jq8qXeS8dy',\n",
              " '@simonetebetbr',\n",
              " 'PT',\n",
              " '@bferrari @cirogomes @simonetebetbr Valeu',\n",
              " '@simonetebetbr',\n",
              " '@CamilaPitanga @simonetebetbr',\n",
              " '@simonetebetbr',\n",
              " '@simonetebetbr',\n",
              " '@simonetebetbr @cirogomes',\n",
              " 'Brasil!!!!',\n",
              " '@ClarissaCotrim @leticiaiai',\n",
              " 'Simone Tebet',\n",
              " '@simonetebetbr @maragabrilli',\n",
              " '@madruguinharock @mitielis',\n",
              " '@jairbolsonaro',\n",
              " '@simonetebetbr',\n",
              " '@dudubrasil28 @SamPancher',\n",
              " 'Simone Tebet',\n",
              " '@simonetebetbr',\n",
              " 'Vc',\n",
              " 'Bone',\n",
              " 'Simone Tebet',\n",
              " 'ORÇAMENTO SECRETO',\n",
              " 'Lula',\n",
              " '@simonetebetbr',\n",
              " 'Simone',\n",
              " '@o_antagonista @simonetebetbr Cínica!',\n",
              " '@simonetebetbr Quer',\n",
              " 'Vc',\n",
              " 'Lula',\n",
              " 'Simone Tebet',\n",
              " 'Bolsonaro',\n",
              " 'SIMONE',\n",
              " '@simonetebetbr @cirogomes @FHC @persio_e @edmarbacha',\n",
              " '@claudioedantas Que ingênua a',\n",
              " '@simonetebetbr',\n",
              " '@simonetebetbr',\n",
              " '@CamilaPitanga @simonetebetbr',\n",
              " '@simonetebetbr',\n",
              " '@simonetebetbr',\n",
              " 'Bolsonaro',\n",
              " 'Maia',\n",
              " '@simonetebetbr',\n",
              " '@simonetebetbr',\n",
              " 'MDB!',\n",
              " '@leticiaspiller @simonetebetbr',\n",
              " 'Papai Noel',\n",
              " '@simonetebetbr',\n",
              " 'Bandido do Chefe',\n",
              " 'Paulo Guedes',\n",
              " 'Brasil',\n",
              " 'Criador do BOLSOLÃO',\n",
              " 'Igreja',\n",
              " 'Santo e Fora',\n",
              " '@simonetebetbr',\n",
              " '@simonetebetbr @simonetebetbr',\n",
              " '@simonetebetbr',\n",
              " 'Simone',\n",
              " '@simonetebetbr',\n",
              " 'Brasil',\n",
              " 'Simone Tebet',\n",
              " 'Dilma',\n",
              " 'Lula',\n",
              " '@betobaggio10',\n",
              " '@simonetebetbr @ptsaopaulosp @ptbrasil',\n",
              " '@madruguinharock @mitielis',\n",
              " 'haddad',\n",
              " 'davila',\n",
              " 'GRATIDÃO SIMONE TEBET',\n",
              " '@simonetebetbr Que vergonha!\\n',\n",
              " '@lulaverso @simonetebetbr',\n",
              " '@antonioprata @simonetebetbr',\n",
              " '@senadorhumberto @LulaOficial',\n",
              " 'simone tebet po',\n",
              " '@rafaelmprestes @simonetebetbr',\n",
              " 'Bolsonaro',\n",
              " 'Simone Tebet',\n",
              " 'Lula',\n",
              " '| Eleições 2022',\n",
              " 'Valor Econômico https://t.co/c85X1l6SUI',\n",
              " '@ryejifeels @SeriesBrasil',\n",
              " '@simonetebetbr @ptsaopaulosp @ptbrasil Primeiro*',\n",
              " '@simonetebetbr Ok',\n",
              " 'Vai @jairbolsonaro',\n",
              " 'Game Over!',\n",
              " 'Simone Tebet',\n",
              " 'Estepe do lula',\n",
              " '@vacinaemascara',\n",
              " '@simonetebetbr',\n",
              " 'f.u.d.e.u',\n",
              " 'Ne',\n",
              " '@simonetebetbr',\n",
              " '@simonetebetbr Vai',\n",
              " '@simonetebetbr',\n",
              " '@simonetebetbr',\n",
              " '@o_antagonista Idem! 👍\\n',\n",
              " '@simonetebetbr',\n",
              " '@simonetebetbr',\n",
              " 'Bolsonaro',\n",
              " 'simone tebet',\n",
              " '@Andreia08202151',\n",
              " 'Lula tbm?',\n",
              " '@simonetebetbr',\n",
              " 'Tebet',\n",
              " 'Lula',\n",
              " 'Pedro',\n",
              " 'Natura',\n",
              " 'João Nogueira Batista',\n",
              " 'Andrea Calabi',\n",
              " 'Banco do Brasil',\n",
              " 'Philippe Reichstul',\n",
              " 'Petrobras',\n",
              " 'Simone Tebet',\n",
              " '@patricia_txra @JanjaLula @simonetebetbr',\n",
              " 'Pues es',\n",
              " 'Simone Tebet',\n",
              " 'Bolsonaro',\n",
              " 'Simone Tebet',\n",
              " 'Lula',\n",
              " '@SiilMooraes',\n",
              " '@pbergamini',\n",
              " '@UnknownRafa02 @reporterenato',\n",
              " '@simonetebetbr',\n",
              " 'SimoneTebet #',\n",
              " '@simonetebetbr',\n",
              " 'Vc',\n",
              " '@simonetebetbr',\n",
              " '@MoraesPT13',\n",
              " 'Lula',\n",
              " 'Lula',\n",
              " 'Simone Tebet',\n",
              " '@simonetebetbr',\n",
              " 'MDB',\n",
              " 'Sergio Machado',\n",
              " 'Tebet',\n",
              " '@simonetebetbr',\n",
              " 'Ah sim!',\n",
              " '@GLAUBERGCO @augustodefranco @simonetebetbr',\n",
              " 'Simone Tebet',\n",
              " '@simonetebetbr',\n",
              " '@simonetebetbr',\n",
              " 'Lula da Silva',\n",
              " 'Cidadania',\n",
              " 'PCB',\n",
              " 'PSTU',\n",
              " 'Simone Tebet',\n",
              " 'también manifestaron apoyo',\n",
              " 'Lula']"
            ]
          },
          "metadata": {},
          "execution_count": 29
        }
      ]
    },
    {
      "cell_type": "code",
      "source": [
        "ents_for_word_cloud = \" \".join(ents_for_word_cloud)\n",
        "ents_for_word_cloud"
      ],
      "metadata": {
        "id": "kIKnO8gI2D8Q",
        "colab": {
          "base_uri": "https://localhost:8080/",
          "height": 201
        },
        "outputId": "814db1c9-fde4-4921-b05a-173bc1c9018d"
      },
      "execution_count": 30,
      "outputs": [
        {
          "output_type": "execute_result",
          "data": {
            "text/plain": [
              "'@simonetebetbr Brasil Senhora Pais Brasil @JosueLucca Arminio Fraga Venezuela Argentina @simonetebetbr @simonetebetbr Quem Lagoa @simonetebetbr @simonetebetbr vc Simone Tebet @Jos16941185 @simonetebetbr Lula Tebet @simonetebetbr Ciro Limbo Lula Bolsonaro Simone Tebet @o_antagonista @simonetebetbr @LulaOficial Me @simonetebetbr @fabriciohorta @simonetebetbr @SorayaThronicke @cirogomes @LulaOficial @simonetebetbr Obrigado https://t.co/Jq8qXeS8dy @simonetebetbr PT @bferrari @cirogomes @simonetebetbr Valeu @simonetebetbr @CamilaPitanga @simonetebetbr @simonetebetbr @simonetebetbr @simonetebetbr @cirogomes Brasil!!!! @ClarissaCotrim @leticiaiai Simone Tebet @simonetebetbr @maragabrilli @madruguinharock @mitielis @jairbolsonaro @simonetebetbr @dudubrasil28 @SamPancher Simone Tebet @simonetebetbr Vc Bone Simone Tebet ORÇAMENTO SECRETO Lula @simonetebetbr Simone @o_antagonista @simonetebetbr Cínica! @simonetebetbr Quer Vc Lula Simone Tebet Bolsonaro SIMONE @simonetebetbr @cirogomes @FHC @persio_e @edmarbacha @claudioedantas Que ingênua a @simonetebetbr @simonetebetbr @CamilaPitanga @simonetebetbr @simonetebetbr @simonetebetbr Bolsonaro Maia @simonetebetbr @simonetebetbr MDB! @leticiaspiller @simonetebetbr Papai Noel @simonetebetbr Bandido do Chefe Paulo Guedes Brasil Criador do BOLSOLÃO Igreja Santo e Fora @simonetebetbr @simonetebetbr @simonetebetbr @simonetebetbr Simone @simonetebetbr Brasil Simone Tebet Dilma Lula @betobaggio10 @simonetebetbr @ptsaopaulosp @ptbrasil @madruguinharock @mitielis haddad davila GRATIDÃO SIMONE TEBET @simonetebetbr Que vergonha!\\n @lulaverso @simonetebetbr @antonioprata @simonetebetbr @senadorhumberto @LulaOficial simone tebet po @rafaelmprestes @simonetebetbr Bolsonaro Simone Tebet Lula | Eleições 2022 Valor Econômico https://t.co/c85X1l6SUI @ryejifeels @SeriesBrasil @simonetebetbr @ptsaopaulosp @ptbrasil Primeiro* @simonetebetbr Ok Vai @jairbolsonaro Game Over! Simone Tebet Estepe do lula @vacinaemascara @simonetebetbr f.u.d.e.u Ne @simonetebetbr @simonetebetbr Vai @simonetebetbr @simonetebetbr @o_antagonista Idem! 👍\\n @simonetebetbr @simonetebetbr Bolsonaro simone tebet @Andreia08202151 Lula tbm? @simonetebetbr Tebet Lula Pedro Natura João Nogueira Batista Andrea Calabi Banco do Brasil Philippe Reichstul Petrobras Simone Tebet @patricia_txra @JanjaLula @simonetebetbr Pues es Simone Tebet Bolsonaro Simone Tebet Lula @SiilMooraes @pbergamini @UnknownRafa02 @reporterenato @simonetebetbr SimoneTebet # @simonetebetbr Vc @simonetebetbr @MoraesPT13 Lula Lula Simone Tebet @simonetebetbr MDB Sergio Machado Tebet @simonetebetbr Ah sim! @GLAUBERGCO @augustodefranco @simonetebetbr Simone Tebet @simonetebetbr @simonetebetbr Lula da Silva Cidadania PCB PSTU Simone Tebet también manifestaron apoyo Lula'"
            ],
            "application/vnd.google.colaboratory.intrinsic+json": {
              "type": "string"
            }
          },
          "metadata": {},
          "execution_count": 30
        }
      ]
    },
    {
      "cell_type": "code",
      "source": [
        "!pip install wordcloud"
      ],
      "metadata": {
        "id": "gA4emqZg2D6F",
        "colab": {
          "base_uri": "https://localhost:8080/"
        },
        "outputId": "92aae008-c3dd-4e56-a692-57a792825148"
      },
      "execution_count": 31,
      "outputs": [
        {
          "output_type": "stream",
          "name": "stdout",
          "text": [
            "Looking in indexes: https://pypi.org/simple, https://us-python.pkg.dev/colab-wheels/public/simple/\n",
            "Requirement already satisfied: wordcloud in /usr/local/lib/python3.7/dist-packages (1.8.2.2)\n",
            "Requirement already satisfied: pillow in /usr/local/lib/python3.7/dist-packages (from wordcloud) (7.1.2)\n",
            "Requirement already satisfied: numpy>=1.6.1 in /usr/local/lib/python3.7/dist-packages (from wordcloud) (1.21.6)\n",
            "Requirement already satisfied: matplotlib in /usr/local/lib/python3.7/dist-packages (from wordcloud) (3.2.2)\n",
            "Requirement already satisfied: kiwisolver>=1.0.1 in /usr/local/lib/python3.7/dist-packages (from matplotlib->wordcloud) (1.4.4)\n",
            "Requirement already satisfied: pyparsing!=2.0.4,!=2.1.2,!=2.1.6,>=2.0.1 in /usr/local/lib/python3.7/dist-packages (from matplotlib->wordcloud) (3.0.9)\n",
            "Requirement already satisfied: python-dateutil>=2.1 in /usr/local/lib/python3.7/dist-packages (from matplotlib->wordcloud) (2.8.2)\n",
            "Requirement already satisfied: cycler>=0.10 in /usr/local/lib/python3.7/dist-packages (from matplotlib->wordcloud) (0.11.0)\n",
            "Requirement already satisfied: typing-extensions in /usr/local/lib/python3.7/dist-packages (from kiwisolver>=1.0.1->matplotlib->wordcloud) (4.1.1)\n",
            "Requirement already satisfied: six>=1.5 in /usr/local/lib/python3.7/dist-packages (from python-dateutil>=2.1->matplotlib->wordcloud) (1.15.0)\n",
            "\u001b[33mWARNING: Running pip as the 'root' user can result in broken permissions and conflicting behaviour with the system package manager. It is recommended to use a virtual environment instead: https://pip.pypa.io/warnings/venv\u001b[0m\u001b[33m\n",
            "\u001b[0m"
          ]
        }
      ]
    },
    {
      "cell_type": "code",
      "source": [
        "from wordcloud import WordCloud\n",
        "import os"
      ],
      "metadata": {
        "id": "54kEN8J13kyY"
      },
      "execution_count": 32,
      "outputs": []
    },
    {
      "cell_type": "code",
      "source": [
        "wordcloud = WordCloud(width=2000, height=1000).generate(ents_for_word_cloud)"
      ],
      "metadata": {
        "id": "H6HOc6BN3kwS"
      },
      "execution_count": 33,
      "outputs": []
    },
    {
      "cell_type": "code",
      "source": [
        "image = wordcloud.to_image()\n",
        "image.save('entity_cloud.png')"
      ],
      "metadata": {
        "id": "Dw14r_zt3kqj"
      },
      "execution_count": 34,
      "outputs": []
    },
    {
      "cell_type": "markdown",
      "source": [
        "# 6. Anotações **Linguísticas** (linguistic features)"
      ],
      "metadata": {
        "id": "uir5kBADx389"
      }
    },
    {
      "cell_type": "code",
      "source": [],
      "metadata": {
        "id": "TdVB31itUMrs"
      },
      "execution_count": null,
      "outputs": []
    },
    {
      "cell_type": "markdown",
      "source": [
        "# 7. Acurácia desses modelos pré treinados"
      ],
      "metadata": {
        "id": "5z0oY4K6jstD"
      }
    },
    {
      "cell_type": "code",
      "source": [],
      "metadata": {
        "id": "IHiKwY43VG-Y"
      },
      "execution_count": null,
      "outputs": []
    },
    {
      "cell_type": "code",
      "source": [],
      "metadata": {
        "id": "USSi-EwX4kaz"
      },
      "execution_count": null,
      "outputs": []
    },
    {
      "cell_type": "code",
      "source": [],
      "metadata": {
        "id": "AQ8DybeZ5Frr"
      },
      "execution_count": null,
      "outputs": []
    },
    {
      "cell_type": "code",
      "source": [],
      "metadata": {
        "id": "66RLvQGa5Mm5"
      },
      "execution_count": null,
      "outputs": []
    }
  ],
  "metadata": {
    "kernelspec": {
      "display_name": "Python 3",
      "language": "python",
      "name": "python3"
    },
    "language_info": {
      "codemirror_mode": {
        "name": "ipython",
        "version": 3
      },
      "file_extension": ".py",
      "mimetype": "text/x-python",
      "name": "python",
      "nbconvert_exporter": "python",
      "pygments_lexer": "ipython3",
      "version": "3.7.4"
    },
    "colab": {
      "provenance": [],
      "collapsed_sections": [
        "kZpzoAlTbQnB",
        "plN6fbbw7ff7",
        "l-0XXrBBjtNO",
        "FfQCI155xIqf"
      ],
      "include_colab_link": true
    }
  },
  "nbformat": 4,
  "nbformat_minor": 0
}