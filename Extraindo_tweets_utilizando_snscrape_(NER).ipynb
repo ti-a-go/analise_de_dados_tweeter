{
  "cells": [
    {
      "cell_type": "markdown",
      "metadata": {
        "id": "view-in-github",
        "colab_type": "text"
      },
      "source": [
        "<a href=\"https://colab.research.google.com/github/ti-a-go/analise_de_dados_tweeter/blob/main/Extraindo_tweets_utilizando_snscrape_(NER).ipynb\" target=\"_parent\"><img src=\"https://colab.research.google.com/assets/colab-badge.svg\" alt=\"Open In Colab\"/></a>"
      ]
    },
    {
      "cell_type": "markdown",
      "source": [
        "# 1. Preparando o [Spacy](https://spacy.io/)"
      ],
      "metadata": {
        "id": "kZpzoAlTbQnB"
      }
    },
    {
      "cell_type": "code",
      "source": [
        "!pip install -U pip setuptools wheel"
      ],
      "metadata": {
        "id": "bRGC5Z3nbPV6"
      },
      "execution_count": null,
      "outputs": []
    },
    {
      "cell_type": "code",
      "source": [
        "!pip install -U spacy"
      ],
      "metadata": {
        "id": "_2smDJGXbJoa"
      },
      "execution_count": null,
      "outputs": []
    },
    {
      "cell_type": "code",
      "source": [
        "!python -m spacy download pt_core_news_lg"
      ],
      "metadata": {
        "id": "rgpW_p8GbdBK"
      },
      "execution_count": null,
      "outputs": []
    },
    {
      "cell_type": "code",
      "source": [
        "!python -m spacy download en_core_web_trf"
      ],
      "metadata": {
        "id": "iinWlAqKbf8x"
      },
      "execution_count": null,
      "outputs": []
    },
    {
      "cell_type": "code",
      "source": [
        "import spacy"
      ],
      "metadata": {
        "id": "qumMU0tibjcY"
      },
      "execution_count": 5,
      "outputs": []
    },
    {
      "cell_type": "code",
      "source": [
        "spacy"
      ],
      "metadata": {
        "colab": {
          "base_uri": "https://localhost:8080/"
        },
        "id": "a-OweVsAc-Ko",
        "outputId": "30cdbba3-83d8-4287-e083-7aacaccce97e"
      },
      "execution_count": 6,
      "outputs": [
        {
          "output_type": "execute_result",
          "data": {
            "text/plain": [
              "<module 'spacy' from '/usr/local/lib/python3.7/dist-packages/spacy/__init__.py'>"
            ]
          },
          "metadata": {},
          "execution_count": 6
        }
      ]
    },
    {
      "cell_type": "markdown",
      "source": [
        "# 2. Buscando dados no Tweeter usando o `snscrape`"
      ],
      "metadata": {
        "id": "plN6fbbw7ff7"
      }
    },
    {
      "cell_type": "code",
      "source": [
        "!pip3 install snscrape"
      ],
      "metadata": {
        "id": "CeoryS0lmBPr"
      },
      "execution_count": null,
      "outputs": []
    },
    {
      "cell_type": "code",
      "source": [
        "import snscrape.modules.twitter as sntwitter\n",
        "import pandas as pd"
      ],
      "metadata": {
        "id": "maY5i6ydUxtQ"
      },
      "execution_count": 8,
      "outputs": []
    },
    {
      "cell_type": "markdown",
      "source": [
        "**Input: `query`, `maxTweets`**\n",
        "\n",
        "`query` será utilizada como input para a busca no twiter\n",
        "\n",
        "`maxTweets` será a quantidade de maxima de twits buscada\n"
      ],
      "metadata": {
        "id": "_bcZWvdHcJJs"
      }
    },
    {
      "cell_type": "code",
      "source": [
        "query = 'Simone Tebet since:2022-10-02 until:2022-10-07'\n",
        "maxTweets = 100"
      ],
      "metadata": {
        "id": "Gsrww3nFb-s7"
      },
      "execution_count": 9,
      "outputs": []
    },
    {
      "cell_type": "markdown",
      "source": [
        "Busca uma quantidade de `maxTweets` utilizando a  `query`"
      ],
      "metadata": {
        "id": "NJrWONk0eofI"
      }
    },
    {
      "cell_type": "code",
      "source": [
        "i = 0\n",
        "tweets_list = []\n",
        "for tweet in sntwitter.TwitterSearchScraper(query).get_items():\n",
        "  if i > maxTweets:\n",
        "    break\n",
        "  tweets_list.append([tweet.date, tweet.url, tweet.username, tweet.content])\n",
        "  i = i + 1"
      ],
      "metadata": {
        "id": "sswhznZAUxwA"
      },
      "execution_count": 10,
      "outputs": []
    },
    {
      "cell_type": "markdown",
      "source": [
        "Resultado: lista de twites"
      ],
      "metadata": {
        "id": "SNc_Pxh8d93J"
      }
    },
    {
      "cell_type": "code",
      "source": [
        "tweets_list"
      ],
      "metadata": {
        "id": "bmDhD_7vd9pE"
      },
      "execution_count": null,
      "outputs": []
    },
    {
      "cell_type": "markdown",
      "source": [
        "Dataframe: tweets"
      ],
      "metadata": {
        "id": "hNMBAj6Yd3zw"
      }
    },
    {
      "cell_type": "code",
      "source": [
        "tweets_df = pd.DataFrame(tweets_list, columns=['date', 'url','username', 'content' ])\n",
        "tweets_df"
      ],
      "metadata": {
        "id": "ktVL9gw8UxyT",
        "colab": {
          "base_uri": "https://localhost:8080/",
          "height": 641
        },
        "outputId": "92cdf20d-cfbd-4f9d-d3ab-9cc334059775"
      },
      "execution_count": 12,
      "outputs": [
        {
          "output_type": "execute_result",
          "data": {
            "text/plain": [
              "                         date  \\\n",
              "0   2022-10-06 23:59:56+00:00   \n",
              "1   2022-10-06 23:59:43+00:00   \n",
              "2   2022-10-06 23:59:39+00:00   \n",
              "3   2022-10-06 23:59:37+00:00   \n",
              "4   2022-10-06 23:59:34+00:00   \n",
              "..                        ...   \n",
              "96  2022-10-06 23:52:34+00:00   \n",
              "97  2022-10-06 23:52:29+00:00   \n",
              "98  2022-10-06 23:52:29+00:00   \n",
              "99  2022-10-06 23:52:28+00:00   \n",
              "100 2022-10-06 23:52:20+00:00   \n",
              "\n",
              "                                                   url         username  \\\n",
              "0    https://twitter.com/amadouaminata/status/15781...    amadouaminata   \n",
              "1    https://twitter.com/MARCELOCALDASP1/status/157...  MARCELOCALDASP1   \n",
              "2    https://twitter.com/marlimpoletto/status/15781...    marlimpoletto   \n",
              "3    https://twitter.com/DaysonCamargoM/status/1578...   DaysonCamargoM   \n",
              "4    https://twitter.com/prjairomaciel/status/15781...    prjairomaciel   \n",
              "..                                                 ...              ...   \n",
              "96   https://twitter.com/LiliaFeBSB/status/15781713...       LiliaFeBSB   \n",
              "97   https://twitter.com/Emosglobina/status/1578171...      Emosglobina   \n",
              "98   https://twitter.com/NiltonC76472742/status/157...  NiltonC76472742   \n",
              "99   https://twitter.com/BastardaInglri1/status/157...  BastardaInglri1   \n",
              "100  https://twitter.com/AndreteleSUR/status/157817...     AndreteleSUR   \n",
              "\n",
              "                                               content  \n",
              "0    @simonetebetbr @LulaOficial Obrigado, Presiden...  \n",
              "1    @JosueLucca @KaykyStt @nahccas @manapg01 @Mate...  \n",
              "2                     @simonetebetbr Vc foi uma piada.  \n",
              "3    @simonetebetbr Quem te viu quem te vê! \\nHoje ...  \n",
              "4    @simonetebetbr É claro fia, tu quer uma tetona...  \n",
              "..                                                 ...  \n",
              "96   @GLAUBERGCO @augustodefranco @simonetebetbr Nã...  \n",
              "97   Não aguento, não aguento a galera falando nem ...  \n",
              "98            @simonetebetbr Vc não tem caráter mesmo.  \n",
              "99   @simonetebetbr @LulaOficial Parabéns, foi a me...  \n",
              "100  Lula da Silva cuenta con el apoyo de 15 de los...  \n",
              "\n",
              "[101 rows x 4 columns]"
            ],
            "text/html": [
              "\n",
              "  <div id=\"df-dcaeff28-2755-4363-9c31-2d535a8b8506\">\n",
              "    <div class=\"colab-df-container\">\n",
              "      <div>\n",
              "<style scoped>\n",
              "    .dataframe tbody tr th:only-of-type {\n",
              "        vertical-align: middle;\n",
              "    }\n",
              "\n",
              "    .dataframe tbody tr th {\n",
              "        vertical-align: top;\n",
              "    }\n",
              "\n",
              "    .dataframe thead th {\n",
              "        text-align: right;\n",
              "    }\n",
              "</style>\n",
              "<table border=\"1\" class=\"dataframe\">\n",
              "  <thead>\n",
              "    <tr style=\"text-align: right;\">\n",
              "      <th></th>\n",
              "      <th>date</th>\n",
              "      <th>url</th>\n",
              "      <th>username</th>\n",
              "      <th>content</th>\n",
              "    </tr>\n",
              "  </thead>\n",
              "  <tbody>\n",
              "    <tr>\n",
              "      <th>0</th>\n",
              "      <td>2022-10-06 23:59:56+00:00</td>\n",
              "      <td>https://twitter.com/amadouaminata/status/15781...</td>\n",
              "      <td>amadouaminata</td>\n",
              "      <td>@simonetebetbr @LulaOficial Obrigado, Presiden...</td>\n",
              "    </tr>\n",
              "    <tr>\n",
              "      <th>1</th>\n",
              "      <td>2022-10-06 23:59:43+00:00</td>\n",
              "      <td>https://twitter.com/MARCELOCALDASP1/status/157...</td>\n",
              "      <td>MARCELOCALDASP1</td>\n",
              "      <td>@JosueLucca @KaykyStt @nahccas @manapg01 @Mate...</td>\n",
              "    </tr>\n",
              "    <tr>\n",
              "      <th>2</th>\n",
              "      <td>2022-10-06 23:59:39+00:00</td>\n",
              "      <td>https://twitter.com/marlimpoletto/status/15781...</td>\n",
              "      <td>marlimpoletto</td>\n",
              "      <td>@simonetebetbr Vc foi uma piada.</td>\n",
              "    </tr>\n",
              "    <tr>\n",
              "      <th>3</th>\n",
              "      <td>2022-10-06 23:59:37+00:00</td>\n",
              "      <td>https://twitter.com/DaysonCamargoM/status/1578...</td>\n",
              "      <td>DaysonCamargoM</td>\n",
              "      <td>@simonetebetbr Quem te viu quem te vê! \\nHoje ...</td>\n",
              "    </tr>\n",
              "    <tr>\n",
              "      <th>4</th>\n",
              "      <td>2022-10-06 23:59:34+00:00</td>\n",
              "      <td>https://twitter.com/prjairomaciel/status/15781...</td>\n",
              "      <td>prjairomaciel</td>\n",
              "      <td>@simonetebetbr É claro fia, tu quer uma tetona...</td>\n",
              "    </tr>\n",
              "    <tr>\n",
              "      <th>...</th>\n",
              "      <td>...</td>\n",
              "      <td>...</td>\n",
              "      <td>...</td>\n",
              "      <td>...</td>\n",
              "    </tr>\n",
              "    <tr>\n",
              "      <th>96</th>\n",
              "      <td>2022-10-06 23:52:34+00:00</td>\n",
              "      <td>https://twitter.com/LiliaFeBSB/status/15781713...</td>\n",
              "      <td>LiliaFeBSB</td>\n",
              "      <td>@GLAUBERGCO @augustodefranco @simonetebetbr Nã...</td>\n",
              "    </tr>\n",
              "    <tr>\n",
              "      <th>97</th>\n",
              "      <td>2022-10-06 23:52:29+00:00</td>\n",
              "      <td>https://twitter.com/Emosglobina/status/1578171...</td>\n",
              "      <td>Emosglobina</td>\n",
              "      <td>Não aguento, não aguento a galera falando nem ...</td>\n",
              "    </tr>\n",
              "    <tr>\n",
              "      <th>98</th>\n",
              "      <td>2022-10-06 23:52:29+00:00</td>\n",
              "      <td>https://twitter.com/NiltonC76472742/status/157...</td>\n",
              "      <td>NiltonC76472742</td>\n",
              "      <td>@simonetebetbr Vc não tem caráter mesmo.</td>\n",
              "    </tr>\n",
              "    <tr>\n",
              "      <th>99</th>\n",
              "      <td>2022-10-06 23:52:28+00:00</td>\n",
              "      <td>https://twitter.com/BastardaInglri1/status/157...</td>\n",
              "      <td>BastardaInglri1</td>\n",
              "      <td>@simonetebetbr @LulaOficial Parabéns, foi a me...</td>\n",
              "    </tr>\n",
              "    <tr>\n",
              "      <th>100</th>\n",
              "      <td>2022-10-06 23:52:20+00:00</td>\n",
              "      <td>https://twitter.com/AndreteleSUR/status/157817...</td>\n",
              "      <td>AndreteleSUR</td>\n",
              "      <td>Lula da Silva cuenta con el apoyo de 15 de los...</td>\n",
              "    </tr>\n",
              "  </tbody>\n",
              "</table>\n",
              "<p>101 rows × 4 columns</p>\n",
              "</div>\n",
              "      <button class=\"colab-df-convert\" onclick=\"convertToInteractive('df-dcaeff28-2755-4363-9c31-2d535a8b8506')\"\n",
              "              title=\"Convert this dataframe to an interactive table.\"\n",
              "              style=\"display:none;\">\n",
              "        \n",
              "  <svg xmlns=\"http://www.w3.org/2000/svg\" height=\"24px\"viewBox=\"0 0 24 24\"\n",
              "       width=\"24px\">\n",
              "    <path d=\"M0 0h24v24H0V0z\" fill=\"none\"/>\n",
              "    <path d=\"M18.56 5.44l.94 2.06.94-2.06 2.06-.94-2.06-.94-.94-2.06-.94 2.06-2.06.94zm-11 1L8.5 8.5l.94-2.06 2.06-.94-2.06-.94L8.5 2.5l-.94 2.06-2.06.94zm10 10l.94 2.06.94-2.06 2.06-.94-2.06-.94-.94-2.06-.94 2.06-2.06.94z\"/><path d=\"M17.41 7.96l-1.37-1.37c-.4-.4-.92-.59-1.43-.59-.52 0-1.04.2-1.43.59L10.3 9.45l-7.72 7.72c-.78.78-.78 2.05 0 2.83L4 21.41c.39.39.9.59 1.41.59.51 0 1.02-.2 1.41-.59l7.78-7.78 2.81-2.81c.8-.78.8-2.07 0-2.86zM5.41 20L4 18.59l7.72-7.72 1.47 1.35L5.41 20z\"/>\n",
              "  </svg>\n",
              "      </button>\n",
              "      \n",
              "  <style>\n",
              "    .colab-df-container {\n",
              "      display:flex;\n",
              "      flex-wrap:wrap;\n",
              "      gap: 12px;\n",
              "    }\n",
              "\n",
              "    .colab-df-convert {\n",
              "      background-color: #E8F0FE;\n",
              "      border: none;\n",
              "      border-radius: 50%;\n",
              "      cursor: pointer;\n",
              "      display: none;\n",
              "      fill: #1967D2;\n",
              "      height: 32px;\n",
              "      padding: 0 0 0 0;\n",
              "      width: 32px;\n",
              "    }\n",
              "\n",
              "    .colab-df-convert:hover {\n",
              "      background-color: #E2EBFA;\n",
              "      box-shadow: 0px 1px 2px rgba(60, 64, 67, 0.3), 0px 1px 3px 1px rgba(60, 64, 67, 0.15);\n",
              "      fill: #174EA6;\n",
              "    }\n",
              "\n",
              "    [theme=dark] .colab-df-convert {\n",
              "      background-color: #3B4455;\n",
              "      fill: #D2E3FC;\n",
              "    }\n",
              "\n",
              "    [theme=dark] .colab-df-convert:hover {\n",
              "      background-color: #434B5C;\n",
              "      box-shadow: 0px 1px 3px 1px rgba(0, 0, 0, 0.15);\n",
              "      filter: drop-shadow(0px 1px 2px rgba(0, 0, 0, 0.3));\n",
              "      fill: #FFFFFF;\n",
              "    }\n",
              "  </style>\n",
              "\n",
              "      <script>\n",
              "        const buttonEl =\n",
              "          document.querySelector('#df-dcaeff28-2755-4363-9c31-2d535a8b8506 button.colab-df-convert');\n",
              "        buttonEl.style.display =\n",
              "          google.colab.kernel.accessAllowed ? 'block' : 'none';\n",
              "\n",
              "        async function convertToInteractive(key) {\n",
              "          const element = document.querySelector('#df-dcaeff28-2755-4363-9c31-2d535a8b8506');\n",
              "          const dataTable =\n",
              "            await google.colab.kernel.invokeFunction('convertToInteractive',\n",
              "                                                     [key], {});\n",
              "          if (!dataTable) return;\n",
              "\n",
              "          const docLinkHtml = 'Like what you see? Visit the ' +\n",
              "            '<a target=\"_blank\" href=https://colab.research.google.com/notebooks/data_table.ipynb>data table notebook</a>'\n",
              "            + ' to learn more about interactive tables.';\n",
              "          element.innerHTML = '';\n",
              "          dataTable['output_type'] = 'display_data';\n",
              "          await google.colab.output.renderOutput(dataTable, element);\n",
              "          const docLink = document.createElement('div');\n",
              "          docLink.innerHTML = docLinkHtml;\n",
              "          element.appendChild(docLink);\n",
              "        }\n",
              "      </script>\n",
              "    </div>\n",
              "  </div>\n",
              "  "
            ]
          },
          "metadata": {},
          "execution_count": 12
        }
      ]
    },
    {
      "cell_type": "markdown",
      "source": [
        "Podemos salvar o dataframe tweets num arquivo `.csv`"
      ],
      "metadata": {
        "id": "Zhn6e_j4fHdk"
      }
    },
    {
      "cell_type": "code",
      "source": [
        "# tweets_df.to_csv()"
      ],
      "metadata": {
        "id": "RKQvKddRUx04"
      },
      "execution_count": 13,
      "outputs": []
    },
    {
      "cell_type": "markdown",
      "source": [
        "# 3. Carregando o modelo pré treinado da língua portugesa (Spacy)\n",
        "\n",
        "O [Spacy](https://spacy.io/models) já nos dá dezenas de modelos pré treinados de várias línguas. Podemos carregar um modelo específico (português, por exemplo) como uma função e vamos usar essa função para processar os tweets extraídos"
      ],
      "metadata": {
        "id": "l-0XXrBBjtNO"
      }
    },
    {
      "cell_type": "code",
      "source": [
        "# Carregamos um modelo executando a função spacy.load(\"nome_do_model\")\n",
        "pt_model = spacy.load(\"pt_core_news_lg\")\n",
        "\n",
        "# Vamos carregar também um modelo da língua inglêsa\n",
        "en_model = spacy.load(\"en_core_web_trf\")\n",
        "\n",
        "pt_model"
      ],
      "metadata": {
        "colab": {
          "base_uri": "https://localhost:8080/"
        },
        "id": "_ZT9418MiZEL",
        "outputId": "5a16776c-98af-4fc5-df8d-aadaabd6c535"
      },
      "execution_count": 15,
      "outputs": [
        {
          "output_type": "execute_result",
          "data": {
            "text/plain": [
              "<spacy.lang.pt.Portuguese at 0x7f02cb6c7610>"
            ]
          },
          "metadata": {},
          "execution_count": 15
        }
      ]
    },
    {
      "cell_type": "code",
      "source": [
        "en_model"
      ],
      "metadata": {
        "colab": {
          "base_uri": "https://localhost:8080/"
        },
        "id": "gGJ0ytdwQ8Sx",
        "outputId": "7df85d22-6237-4544-8aa3-9919fd0075f6"
      },
      "execution_count": 16,
      "outputs": [
        {
          "output_type": "execute_result",
          "data": {
            "text/plain": [
              "<spacy.lang.en.English at 0x7f02c8865050>"
            ]
          },
          "metadata": {},
          "execution_count": 16
        }
      ]
    },
    {
      "cell_type": "markdown",
      "source": [
        "## 3.1 Introdução ao Spacy (Doc e Token)"
      ],
      "metadata": {
        "id": "52kCvzbxhnAa"
      }
    },
    {
      "cell_type": "code",
      "source": [
        "# vamos processar o conteúdo do primeiro tweet e criar um objeto chamado Documento (Doc)\n",
        "doc = pt_model(tweets_df[\"content\"][0])\n",
        "\n",
        "# veja que o documento parece com uma string, mas é uma lista de tokens\n",
        "doc"
      ],
      "metadata": {
        "colab": {
          "base_uri": "https://localhost:8080/"
        },
        "id": "GqpL7dQeQ-wm",
        "outputId": "038e58e2-906e-485a-8536-890f3c81dbc7"
      },
      "execution_count": 17,
      "outputs": [
        {
          "output_type": "execute_result",
          "data": {
            "text/plain": [
              "@simonetebetbr @LulaOficial Obrigado, Presidente Simone. O Brasil precisa de pessoas como a Senhora para tornar este pais, pais de todo o mundo. Um Pais rico como o Brasil, minha segunda Patria, não pode ter tantas pessoas pobres e miseraveis."
            ]
          },
          "metadata": {},
          "execution_count": 17
        }
      ]
    },
    {
      "cell_type": "markdown",
      "source": [
        "O [Documento](https://spacy.io/api/doc) é um conceito chave para o Spacy. Recomento ler a documentação"
      ],
      "metadata": {
        "id": "f5OO6n_Igh4l"
      }
    },
    {
      "cell_type": "code",
      "source": [
        "type(doc)"
      ],
      "metadata": {
        "colab": {
          "base_uri": "https://localhost:8080/"
        },
        "id": "cB2_yiJfRL5K",
        "outputId": "a218c8b0-f4ca-4df9-806b-1a75cb7910a9"
      },
      "execution_count": 18,
      "outputs": [
        {
          "output_type": "execute_result",
          "data": {
            "text/plain": [
              "spacy.tokens.doc.Doc"
            ]
          },
          "metadata": {},
          "execution_count": 18
        }
      ]
    },
    {
      "cell_type": "markdown",
      "source": [
        "O [Token](https://spacy.io/api/token) é o conceito central do Spacy. E no token que vamos encontrar todas a anotações linguísticas feitas pelos modelo pré treinado que utilizamos para processar o texto do tweet"
      ],
      "metadata": {
        "id": "AK-11X1vg4bf"
      }
    },
    {
      "cell_type": "code",
      "source": [
        "# podemos iterar pelos token de um doc\n",
        "for token in doc:\n",
        "  print(f\"Token: {token}\")\n",
        "\n",
        "  # o token tem vários atributos que correspondem às lebels atribuídas pelo modelo\n",
        "  # um deles é o \"pos_\" que representa a classe da palavra\n",
        "  print(f\"  POS: {token.pos_}\\n\")"
      ],
      "metadata": {
        "id": "kKxiB1ABRSR2"
      },
      "execution_count": null,
      "outputs": []
    },
    {
      "cell_type": "code",
      "source": [
        "# vemos que o segundo token é um adverb (abvérbio)\n",
        "doc[1].pos_"
      ],
      "metadata": {
        "colab": {
          "base_uri": "https://localhost:8080/",
          "height": 36
        },
        "id": "jBXdvarORVUh",
        "outputId": "f255b238-d677-490b-831a-3a7baef40daa"
      },
      "execution_count": 20,
      "outputs": [
        {
          "output_type": "execute_result",
          "data": {
            "text/plain": [
              "'ADJ'"
            ],
            "application/vnd.google.colaboratory.intrinsic+json": {
              "type": "string"
            }
          },
          "metadata": {},
          "execution_count": 20
        }
      ]
    },
    {
      "cell_type": "markdown",
      "source": [
        "o Spacy utiliza [um glossário](https://github.com/explosion/spaCy/blob/master/spacy/glossary.py) com as explicações para as abreviações utilizadas pela biblioteca"
      ],
      "metadata": {
        "id": "Fz6l0_gbjH9v"
      }
    },
    {
      "cell_type": "code",
      "source": [
        "# podemos acessar o glossário a partir da função spacy.explain(sigla)\n",
        "spacy.explain(doc[1].pos_)"
      ],
      "metadata": {
        "colab": {
          "base_uri": "https://localhost:8080/",
          "height": 36
        },
        "id": "XIhiWF-RiNyh",
        "outputId": "b5045ee0-b653-4f3c-ec16-6624a9cfb846"
      },
      "execution_count": 21,
      "outputs": [
        {
          "output_type": "execute_result",
          "data": {
            "text/plain": [
              "'adjective'"
            ],
            "application/vnd.google.colaboratory.intrinsic+json": {
              "type": "string"
            }
          },
          "metadata": {},
          "execution_count": 21
        }
      ]
    },
    {
      "cell_type": "markdown",
      "source": [
        "# 4. Início da Análise (NER)"
      ],
      "metadata": {
        "id": "otMtLIpPSDYT"
      }
    },
    {
      "cell_type": "markdown",
      "source": [
        "## Entidade Nomeada"
      ],
      "metadata": {
        "id": "FfQCI155xIqf"
      }
    },
    {
      "cell_type": "markdown",
      "source": [
        "O Doc é mais do que uma lista, é uma classe que possui um atributo chamado `ents` que também é uma lista de tokens, mas só aqueles que o modelo \"entende\" como sendo uma [entidade nomeada](https://pt.wikipedia.org/wiki/Reconhecimento_de_entidade_mencionada)."
      ],
      "metadata": {
        "id": "apkxM4nMu7U1"
      }
    },
    {
      "cell_type": "code",
      "source": [
        "\"\"\"\n",
        "   No primeiro tweet o modelo encontrou uma entidade (Simone Tebet)\n",
        "   que é justamente o valor da nossa query\n",
        "\"\"\"\n",
        "doc.ents"
      ],
      "metadata": {
        "colab": {
          "base_uri": "https://localhost:8080/"
        },
        "id": "MZ1uXYZ9R1s7",
        "outputId": "58f3cc3a-7bf4-42e0-c4c1-8ae4e8612475"
      },
      "execution_count": 22,
      "outputs": [
        {
          "output_type": "execute_result",
          "data": {
            "text/plain": [
              "(@simonetebetbr, Brasil, Senhora, Pais, Brasil)"
            ]
          },
          "metadata": {},
          "execution_count": 22
        }
      ]
    },
    {
      "cell_type": "markdown",
      "source": [
        "Uma **entidade nomeada** possui uma label anotada pelo modelo"
      ],
      "metadata": {
        "id": "VWIbQA5WwdTx"
      }
    },
    {
      "cell_type": "code",
      "source": [
        "for ent in doc.ents:\n",
        "  print(f\"token: {ent.text}\")\n",
        "  print(f\"  NER: {ent.label_}\")"
      ],
      "metadata": {
        "colab": {
          "base_uri": "https://localhost:8080/"
        },
        "id": "GsktvjC6TE6m",
        "outputId": "06e84f81-8208-417d-f538-0e0aa7324121"
      },
      "execution_count": 23,
      "outputs": [
        {
          "output_type": "stream",
          "name": "stdout",
          "text": [
            "token: @simonetebetbr\n",
            "  NER: MISC\n",
            "token: Brasil\n",
            "  NER: LOC\n",
            "token: Senhora\n",
            "  NER: PER\n",
            "token: Pais\n",
            "  NER: PER\n",
            "token: Brasil\n",
            "  NER: LOC\n"
          ]
        }
      ]
    },
    {
      "cell_type": "code",
      "source": [
        "# Named person or family (Nome de pessoa ou família)\n",
        "spacy.explain(\"PER\")"
      ],
      "metadata": {
        "colab": {
          "base_uri": "https://localhost:8080/",
          "height": 36
        },
        "id": "D7YLuoQcwxKE",
        "outputId": "d001c31d-411c-482c-f9c8-157f8d541e6b"
      },
      "execution_count": 24,
      "outputs": [
        {
          "output_type": "execute_result",
          "data": {
            "text/plain": [
              "'Named person or family.'"
            ],
            "application/vnd.google.colaboratory.intrinsic+json": {
              "type": "string"
            }
          },
          "metadata": {},
          "execution_count": 24
        }
      ]
    },
    {
      "cell_type": "markdown",
      "source": [
        "## Entidades encontradas em todos os tweets"
      ],
      "metadata": {
        "id": "e912Ves9xPTU"
      }
    },
    {
      "cell_type": "markdown",
      "source": [
        "Até agora só processamos um tweet, vamos processar todos extraídos para podermos saber quais entidades nomeadas o spacy encontrou\n"
      ],
      "metadata": {
        "id": "VLHyPIiRxYcL"
      }
    },
    {
      "cell_type": "code",
      "source": [
        "docs = []\n",
        "for tweet in tweets_df[\"content\"]:\n",
        "  docs.append(pt_model(tweet))\n",
        "docs"
      ],
      "metadata": {
        "id": "Hm0-gsufTV87"
      },
      "execution_count": null,
      "outputs": []
    },
    {
      "cell_type": "code",
      "source": [
        "type(docs[0])"
      ],
      "metadata": {
        "colab": {
          "base_uri": "https://localhost:8080/"
        },
        "id": "agO1jh9GTxdn",
        "outputId": "86b8a932-1f0f-4b94-cee9-6e8ef5638956"
      },
      "execution_count": 26,
      "outputs": [
        {
          "output_type": "execute_result",
          "data": {
            "text/plain": [
              "spacy.tokens.doc.Doc"
            ]
          },
          "metadata": {},
          "execution_count": 26
        }
      ]
    },
    {
      "cell_type": "code",
      "source": [
        "docs[1].ents"
      ],
      "metadata": {
        "colab": {
          "base_uri": "https://localhost:8080/"
        },
        "id": "LXbXybNO6G0n",
        "outputId": "142815f4-01be-44b7-bb1a-35d3641ddad8"
      },
      "execution_count": 27,
      "outputs": [
        {
          "output_type": "execute_result",
          "data": {
            "text/plain": [
              "(@JosueLucca, Arminio Fraga, Venezuela, Argentina)"
            ]
          },
          "metadata": {},
          "execution_count": 27
        }
      ]
    },
    {
      "cell_type": "code",
      "source": [
        "ents = [doc.ents for doc in docs]\n",
        "ents"
      ],
      "metadata": {
        "id": "EmP8FiCNpoAM"
      },
      "execution_count": null,
      "outputs": []
    },
    {
      "cell_type": "markdown",
      "source": [
        "# 5. Wordcloud com entidades nomeadas encontradas pelo Spacy"
      ],
      "metadata": {
        "id": "ysyPo7UVrHDn"
      }
    },
    {
      "cell_type": "code",
      "source": [
        "ents"
      ],
      "metadata": {
        "id": "FApw0ovTU9Q0"
      },
      "execution_count": null,
      "outputs": []
    },
    {
      "cell_type": "code",
      "source": [
        "ents_for_word_cloud = []\n",
        "for ent in ents:\n",
        "  if len(ent):\n",
        "    ents_for_word_cloud.append(ent[0].text)\n",
        "ents_for_word_cloud"
      ],
      "metadata": {
        "id": "LfXIiJq92D-V"
      },
      "execution_count": null,
      "outputs": []
    },
    {
      "cell_type": "code",
      "source": [
        "ents_for_word_cloud = \" \".join(ents_for_word_cloud)\n",
        "ents_for_word_cloud"
      ],
      "metadata": {
        "id": "kIKnO8gI2D8Q"
      },
      "execution_count": null,
      "outputs": []
    },
    {
      "cell_type": "code",
      "source": [
        "!pip install wordcloud"
      ],
      "metadata": {
        "id": "gA4emqZg2D6F"
      },
      "execution_count": null,
      "outputs": []
    },
    {
      "cell_type": "code",
      "source": [
        "from wordcloud import WordCloud\n",
        "import os"
      ],
      "metadata": {
        "id": "54kEN8J13kyY"
      },
      "execution_count": 54,
      "outputs": []
    },
    {
      "cell_type": "code",
      "source": [
        "wordcloud = WordCloud(width=2000, height=1000).generate(ents_for_word_cloud)"
      ],
      "metadata": {
        "id": "H6HOc6BN3kwS"
      },
      "execution_count": 53,
      "outputs": []
    },
    {
      "cell_type": "code",
      "source": [
        "image_file = 'entity_cloud.png'\n",
        "image = wordcloud.to_image()\n",
        "image.save(image_file)"
      ],
      "metadata": {
        "id": "Dw14r_zt3kqj"
      },
      "execution_count": 56,
      "outputs": []
    },
    {
      "cell_type": "markdown",
      "source": [
        "# 6. Anotações **Linguísticas** (linguistic features)"
      ],
      "metadata": {
        "id": "uir5kBADx389"
      }
    },
    {
      "cell_type": "code",
      "source": [],
      "metadata": {
        "id": "TdVB31itUMrs"
      },
      "execution_count": null,
      "outputs": []
    },
    {
      "cell_type": "markdown",
      "source": [
        "# 7. Acurácia desses modelos pré treinados"
      ],
      "metadata": {
        "id": "5z0oY4K6jstD"
      }
    },
    {
      "cell_type": "code",
      "source": [],
      "metadata": {
        "id": "IHiKwY43VG-Y"
      },
      "execution_count": null,
      "outputs": []
    },
    {
      "cell_type": "code",
      "source": [],
      "metadata": {
        "id": "USSi-EwX4kaz"
      },
      "execution_count": null,
      "outputs": []
    },
    {
      "cell_type": "code",
      "source": [],
      "metadata": {
        "id": "AQ8DybeZ5Frr"
      },
      "execution_count": null,
      "outputs": []
    },
    {
      "cell_type": "code",
      "source": [],
      "metadata": {
        "id": "66RLvQGa5Mm5"
      },
      "execution_count": null,
      "outputs": []
    }
  ],
  "metadata": {
    "kernelspec": {
      "display_name": "Python 3",
      "language": "python",
      "name": "python3"
    },
    "language_info": {
      "codemirror_mode": {
        "name": "ipython",
        "version": 3
      },
      "file_extension": ".py",
      "mimetype": "text/x-python",
      "name": "python",
      "nbconvert_exporter": "python",
      "pygments_lexer": "ipython3",
      "version": "3.7.4"
    },
    "colab": {
      "provenance": [],
      "collapsed_sections": [
        "kZpzoAlTbQnB",
        "plN6fbbw7ff7",
        "l-0XXrBBjtNO",
        "FfQCI155xIqf",
        "e912Ves9xPTU",
        "ysyPo7UVrHDn",
        "uir5kBADx389",
        "5z0oY4K6jstD"
      ],
      "include_colab_link": true
    }
  },
  "nbformat": 4,
  "nbformat_minor": 0
}